{
  "nbformat": 4,
  "nbformat_minor": 0,
  "metadata": {
    "colab": {
      "name": "pano",
      "version": "0.3.2",
      "provenance": [],
      "collapsed_sections": [],
      "include_colab_link": true
    },
    "kernelspec": {
      "name": "python3",
      "display_name": "Python 3"
    }
  },
  "cells": [
    {
      "cell_type": "markdown",
      "metadata": {
        "id": "view-in-github",
        "colab_type": "text"
      },
      "source": [
        "<a href=\"https://colab.research.google.com/github/bhardwaj1230/algorithms/blob/master/pano.ipynb\" target=\"_parent\"><img src=\"https://colab.research.google.com/assets/colab-badge.svg\" alt=\"Open In Colab\"/></a>"
      ]
    },
    {
      "cell_type": "code",
      "metadata": {
        "id": "4otym_1z-huQ",
        "colab_type": "code",
        "colab": {}
      },
      "source": [
        ""
      ],
      "execution_count": 0,
      "outputs": []
    },
    {
      "cell_type": "code",
      "metadata": {
        "id": "lHbPBXSe-hkX",
        "colab_type": "code",
        "colab": {}
      },
      "source": [
        "# Python program for implementation of MergeSort \n",
        "def mergeSort(arr): \n",
        "\tif len(arr) >1: \n",
        "\t\tmid = len(arr)//2 #Finding the mid of the array \n",
        "\t\tL = arr[:mid] # Dividing the array elements \n",
        "\t\tR = arr[mid:] # into 2 halves \n",
        "\n",
        "\t\tmergeSort(L) # Sorting the first half \n",
        "\t\tmergeSort(R) # Sorting the second half \n",
        "\n",
        "\t\ti = j = k = 0\n",
        "\t\t\n",
        "\t\t# Copy data to temp arrays L[] and R[] \n",
        "\t\twhile i < len(L) and j < len(R): \n",
        "\t\t\tif L[i] < R[j]: \n",
        "\t\t\t\tarr[k] = L[i] \n",
        "\t\t\t\ti+=1\n",
        "\t\t\telse: \n",
        "\t\t\t\tarr[k] = R[j] \n",
        "\t\t\t\tj+=1\n",
        "\t\t\tk+=1\n",
        "\t\t\n",
        "\t\t# Checking if any element was left \n",
        "\t\twhile i < len(L): \n",
        "\t\t\tarr[k] = L[i] \n",
        "\t\t\ti+=1\n",
        "\t\t\tk+=1\n",
        "\t\t\n",
        "\t\twhile j < len(R): \n",
        "\t\t\tarr[k] = R[j] \n",
        "\t\t\tj+=1\n",
        "\t\t\tk+=1\n",
        "            \n",
        "            \n",
        "            \n",
        "\n",
        "def trick(arr):\n",
        "    pano = []\n",
        "    for i in range(len(arr)):\n",
        "       \n",
        "        if i < len(arr)-1:\n",
        "\n",
        "            if arr[i][2] < arr[i+1][0]:\n",
        "                pano.append(arr[i])\n",
        "                pano.append((arr[i][2],0,arr[i+1][0]))\n",
        "\n",
        "            elif arr[i][2] > arr[i+1][0] and arr[i][1] >= arr[i+1][1]:\n",
        "                pano.append(arr[i])\n",
        "                pano.append((arr[i][2],arr[i+1][1],arr[i+1][2]))\n",
        "                arr.remove(arr[i])\n",
        "                #arr.remove(arr[i])\n",
        "                \n",
        "            elif arr[i][2] > arr[i+1][0] and arr[i][1] <= arr[i+1][1]:\n",
        "                pano.append((arr[i][0],arr[i][1],arr[i+1][0]))\n",
        "                pano.append(arr[i+1])\n",
        "                \n",
        "                   \n",
        "        elif i == len(arr)-1 and arr[i][2] != pano[-1][2]:\n",
        "            pano.append(arr[i])\n",
        "            \n",
        "    return pano\n"
      ],
      "execution_count": 0,
      "outputs": []
    },
    {
      "cell_type": "code",
      "metadata": {
        "id": "BNVk_8WsmJGE",
        "colab_type": "code",
        "colab": {
          "base_uri": "https://localhost:8080/",
          "height": 153
        },
        "outputId": "f69cde64-cac6-4ab8-f5cb-f34febe30445"
      },
      "source": [
        "set_e = {(8, 3, 16), (2, 3, 6), (8, 5, 11), (25, 2, 125), (14, 3, 18), (7, 6, 10), (14, 1, 30)}\n",
        "\n",
        "#set_e = {(1,1,2),(1,4,6),(2,2,9),(10,1,12)}\n",
        "\n",
        "arr =[]\n",
        "for a,h,b in set_e:\n",
        "    arr.append((a,h,b))\n",
        "mergeSort(arr)\n",
        "\n",
        "for i in range(len(arr)):    \n",
        "    if i < len(arr)-1:\n",
        "\n",
        "        if arr[i][0] == arr[i+1][0] and arr[i][1] < arr[i+1][1]:\n",
        "            if arr[i+1][2] < arr[i][2]:\n",
        "                arr.append((arr[i+1][2], arr[i][1], arr[i][2]))\n",
        "                arr.remove(arr[i])\n",
        "            elif arr[i+1][2] > arr[i][2]:\n",
        "                arr.remove(arr[i])\n",
        "mergeSort(arr)\n",
        "arr\n",
        "\n",
        "trick(arr)"
      ],
      "execution_count": 141,
      "outputs": [
        {
          "output_type": "execute_result",
          "data": {
            "text/plain": [
              "[(2, 3, 6),\n",
              " (6, 0, 7),\n",
              " (7, 6, 10),\n",
              " (10, 5, 11),\n",
              " (11, 3, 16),\n",
              " (16, 3, 18),\n",
              " (18, 1, 25),\n",
              " (25, 2, 125)]"
            ]
          },
          "metadata": {
            "tags": []
          },
          "execution_count": 141
        }
      ]
    },
    {
      "cell_type": "code",
      "metadata": {
        "id": "2EWH1A1tmI4B",
        "colab_type": "code",
        "colab": {
          "base_uri": "https://localhost:8080/",
          "height": 34
        },
        "outputId": "51d64aac-a3f5-423d-902d-fd906fb68d5c"
      },
      "source": [
        "# Python program for implementation of MergeSort \n",
        "def mergeSort(arr): \n",
        "\tif len(arr) >1: \n",
        "\t\tmid = len(arr)//2 #Finding the mid of the array \n",
        "\t\tL = arr[:mid] # Dividing the array elements \n",
        "\t\tR = arr[mid:] # into 2 halves \n",
        "\n",
        "\t\tmergeSort(L) # Sorting the first half \n",
        "\t\tmergeSort(R) # Sorting the second half \n",
        "\n",
        "\t\ti = j = k = 0\n",
        "\t\t\n",
        "\t\t# Copy data to temp arrays L[] and R[] \n",
        "\t\twhile i < len(L) and j < len(R): \n",
        "\t\t\tif L[i] < R[j]: \n",
        "\t\t\t\tarr[k] = L[i] \n",
        "\t\t\t\ti+=1\n",
        "\t\t\telse: \n",
        "\t\t\t\tarr[k] = R[j] \n",
        "\t\t\t\tj+=1\n",
        "\t\t\tk+=1\n",
        "\t\t\n",
        "\t\t# Checking if any element was left \n",
        "\t\twhile i < len(L): \n",
        "\t\t\tarr[k] = L[i] \n",
        "\t\t\ti+=1\n",
        "\t\t\tk+=1\n",
        "\t\t\n",
        "\t\twhile j < len(R): \n",
        "\t\t\tarr[k] = R[j] \n",
        "\t\t\tj+=1\n",
        "\t\t\tk+=1\n",
        "            \n",
        "            \n",
        "            \n",
        "\n",
        "def trick(arr):\n",
        "    pano = []\n",
        "    for i in range(len(arr)):\n",
        "       \n",
        "        if i < len(arr)-1:\n",
        "\n",
        "            if arr[i][2] < arr[i+1][0]:\n",
        "                pano.append(arr[i])\n",
        "                pano.append((arr[i][2],0,arr[i+1][0]))\n",
        "\n",
        "            elif arr[i][2] > arr[i+1][0] and arr[i][1] >= arr[i+1][1]:\n",
        "                pano.append(arr[i])\n",
        "                pano.append((arr[i][2],arr[i+1][1],arr[i+1][2]))\n",
        "                arr.remove(arr[i])\n",
        "                \n",
        "            elif arr[i][2] > arr[i+1][0] and arr[i][1] <= arr[i+1][1]:\n",
        "                pano.append((arr[i][0],arr[i][1],arr[i+1][0]))\n",
        "                pano.append(arr[i+1])\n",
        "          \n",
        "        elif i == len(arr)-1 and arr[i][2] != pano[-1][2]:\n",
        "            pano.append(arr[i])\n",
        "            \n",
        "    return pano\n",
        "\n",
        "\n",
        "\n",
        "set_e = {(1,1,2),(1,4,6),(2,2,9),(10,1,12)}\n",
        "\n",
        "arr =[]\n",
        "for a,h,b in set_e:\n",
        "    arr.append((a,h,b))\n",
        "mergeSort(arr)\n",
        "\n",
        "for i in range(len(arr)):    \n",
        "    if i < len(arr)-1:\n",
        "\n",
        "        if arr[i][0] == arr[i+1][0] and arr[i][1] < arr[i+1][1]:\n",
        "            if arr[i+1][2] < arr[i][2]:\n",
        "                arr.append((arr[i+1][2], arr[i][1], arr[i][2]))\n",
        "                arr.remove(arr[i])\n",
        "            elif arr[i+1][2] > arr[i][2]:\n",
        "                arr.remove(arr[i])\n",
        "mergeSort(arr)\n",
        "arr\n",
        "\n",
        "trick(arr)"
      ],
      "execution_count": 139,
      "outputs": [
        {
          "output_type": "execute_result",
          "data": {
            "text/plain": [
              "[(1, 4, 6), (6, 2, 9), (10, 1, 12)]"
            ]
          },
          "metadata": {
            "tags": []
          },
          "execution_count": 139
        }
      ]
    },
    {
      "cell_type": "code",
      "metadata": {
        "id": "wDiX6PrOmIyc",
        "colab_type": "code",
        "colab": {
          "base_uri": "https://localhost:8080/",
          "height": 34
        },
        "outputId": "9751acd5-9aca-4548-defb-806b45921bf4"
      },
      "source": [
        "arr"
      ],
      "execution_count": 83,
      "outputs": [
        {
          "output_type": "execute_result",
          "data": {
            "text/plain": [
              "[(10, 1, 12)]"
            ]
          },
          "metadata": {
            "tags": []
          },
          "execution_count": 83
        }
      ]
    },
    {
      "cell_type": "code",
      "metadata": {
        "id": "4PKxJ9CgmIsa",
        "colab_type": "code",
        "colab": {}
      },
      "source": [
        ""
      ],
      "execution_count": 0,
      "outputs": []
    },
    {
      "cell_type": "code",
      "metadata": {
        "id": "nW5OKegymIll",
        "colab_type": "code",
        "colab": {}
      },
      "source": [
        ""
      ],
      "execution_count": 0,
      "outputs": []
    },
    {
      "cell_type": "code",
      "metadata": {
        "id": "e5-xILLRmIcn",
        "colab_type": "code",
        "colab": {}
      },
      "source": [
        ""
      ],
      "execution_count": 0,
      "outputs": []
    },
    {
      "cell_type": "code",
      "metadata": {
        "id": "D0ExIhKPmISE",
        "colab_type": "code",
        "colab": {}
      },
      "source": [
        ""
      ],
      "execution_count": 0,
      "outputs": []
    },
    {
      "cell_type": "code",
      "metadata": {
        "id": "7fF2t5-CmIFC",
        "colab_type": "code",
        "colab": {}
      },
      "source": [
        ""
      ],
      "execution_count": 0,
      "outputs": []
    },
    {
      "cell_type": "code",
      "metadata": {
        "id": "Ucx8NW9ymICC",
        "colab_type": "code",
        "colab": {}
      },
      "source": [
        ""
      ],
      "execution_count": 0,
      "outputs": []
    },
    {
      "cell_type": "code",
      "metadata": {
        "id": "dV-Gz_rhmH8x",
        "colab_type": "code",
        "colab": {}
      },
      "source": [
        ""
      ],
      "execution_count": 0,
      "outputs": []
    }
  ]
}