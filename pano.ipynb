{
  "nbformat": 4,
  "nbformat_minor": 0,
  "metadata": {
    "colab": {
      "name": "pano",
      "version": "0.3.2",
      "provenance": [],
      "collapsed_sections": [],
      "include_colab_link": true
    },
    "kernelspec": {
      "name": "python3",
      "display_name": "Python 3"
    }
  },
  "cells": [
    {
      "cell_type": "markdown",
      "metadata": {
        "id": "view-in-github",
        "colab_type": "text"
      },
      "source": [
        "<a href=\"https://colab.research.google.com/github/bhardwaj1230/algorithms/blob/master/pano.ipynb\" target=\"_parent\"><img src=\"https://colab.research.google.com/assets/colab-badge.svg\" alt=\"Open In Colab\"/></a>"
      ]
    },
    {
      "cell_type": "markdown",
      "metadata": {
        "id": "3mKVvuMuIN1t",
        "colab_type": "text"
      },
      "source": [
        "**Divide and Conqure !!!**"
      ]
    },
    {
      "cell_type": "code",
      "metadata": {
        "id": "dV-Gz_rhmH8x",
        "colab_type": "code",
        "outputId": "098f36dd-a948-4931-e3ac-512987cbb4aa",
        "colab": {
          "base_uri": "https://localhost:8080/",
          "height": 319
        }
      },
      "source": [
        "#Sorting Orginal Array:\n",
        "\n",
        "def mergeSort(arr): \n",
        "\tif len(arr) >1: \n",
        "\t\tmid = len(arr)//2\n",
        "\t\tL = arr[:mid]\n",
        "\t\tR = arr[mid:] \n",
        "\n",
        "\t\tmergeSort(L)\n",
        "\t\tmergeSort(R)\n",
        "\n",
        "\t\ti = j = k = 0\n",
        "        \n",
        "\t\twhile i < len(L) and j < len(R): \n",
        "\t\t\tif L[i] < R[j]:\n",
        "\t\t\t\tarr[k] = L[i]\n",
        "\t\t\t\ti+=1\n",
        "\t\t\telse: \n",
        "\t\t\t\tarr[k] = R[j] \n",
        "\t\t\t\tj+=1\n",
        "\t\t\tk+=1\n",
        "\t\twhile i < len(L): \n",
        "\t\t\tarr[k] = L[i] \n",
        "\t\t\ti+=1\n",
        "\t\t\tk+=1\n",
        "\t\t\n",
        "\t\twhile j < len(R): \n",
        "\t\t\tarr[k] = R[j] \n",
        "\t\t\tj+=1\n",
        "\t\t\tk+=1\n",
        "            \n",
        "            \n",
        "#Input\n",
        "set_e = {(8, 3, 16), (2, 3, 6), (8, 5, 11), (25, 2, 125), (14, 3, 18), (7, 6, 10), (14, 1, 30)}\n",
        "\n",
        "#Converting set to array:\n",
        "arr =[]\n",
        "for a,h,b in set_e:\n",
        "    arr.append((a,h,b))\n",
        "print('Unsorted original array: ',arr)\n",
        "print('Time Complexity for convertng set to list: O(n) \\n')\n",
        "\n",
        "#Sorting the array:\n",
        "mergeSort(arr)\n",
        "print('Sorted original array: ',arr)\n",
        "print('Time Complexity for mergeSort algorithm: O(nlogn) \\n')\n",
        "\n",
        "#Preprocessing the seqential blocks with same starting point and sorting new array:\n",
        "new_arr = []\n",
        "for i in range(len(arr)):    \n",
        "\n",
        "    if  i < len(arr)-1 and arr[i][0] == arr[i+1][0]:\n",
        "\n",
        "        if arr[i][1] < arr[i+1][1] and arr[i][2] > arr[i+1][2]:\n",
        "            new_arr.append((arr[i+1][2], arr[i][1], arr[i][2]))\n",
        "\n",
        "        elif arr[i][1] < arr[i+1][1] and arr[i][2] < arr[i+1][2]:\n",
        "            print('taken care with elif conditon')\n",
        "\n",
        "        elif arr[i][1] > arr[i+1][1] and arr[i][2] > arr[i+1][2]:\n",
        "            print('taken care with elif conditon')\n",
        "\n",
        "        elif arr[i][1] > arr[i+1][1] and arr[i][2] < arr[i+1][2]:\n",
        "            new_arr.append((arr[i][2], arr[i+1][1], arr[i+1][2]))\n",
        "\n",
        "    elif i < len(arr):\n",
        "        new_arr.append(arr[i])\n",
        "\n",
        "        \n",
        "mergeSort(new_arr)\n",
        "print('Adjusting array with same starting point: ',new_arr)\n",
        "print('Time Complexity for iterating over each element in array once and applying mergeSort algorithm: O(n) + O(nlogn) \\n')\n",
        "\n",
        "#Preprocessing the seqential blocks with gap, Adding gap with zero height in array:\n",
        "for i in range(len(new_arr)):\n",
        "    if i < len(new_arr)-1:\n",
        "        \n",
        "        if new_arr[i][2] < new_arr[i+1][0]:\n",
        "            new_arr.append((new_arr[i][2],0,new_arr[i+1][0]))\n",
        "    \n",
        "mergeSort(new_arr)\n",
        "print('Adding gap with zero height in array: ',new_arr)\n",
        "print('Time Complexity: O(n) \\n')\n",
        "\n",
        "print('Start creating Panorama with Divide and Conqure on modified array \\n ')\n",
        "\n",
        "def pano(arr,out):\n",
        "\n",
        "    if len(arr) >1:\n",
        "        \n",
        "        mid = len(arr)//2\n",
        "        Left = arr[:mid]\n",
        "        Right = arr[mid:]      \n",
        "        pano(Left,out)\n",
        "        pano(Right,out)\n",
        "        \n",
        "        i = j = k = 0\n",
        "        while i < len(Left) and j < len(Right):\n",
        "            \n",
        "            L = Left[0]\n",
        "            R = Right[0]\n",
        "            \n",
        "            #check overlap\n",
        "            if R[0] > L[0] and R[0] < L[2] and R[2] > L[2]:\n",
        "\n",
        "                if R[1] <= L[1]:\n",
        "                    out.append(L)\n",
        "                    out.append((L[2],R[1],R[2]))\n",
        "                    i+=1\n",
        "                    j+=1\n",
        "                else:\n",
        "                    out.append(R)\n",
        "                    out.append((L[0],L[1],R[0]))\n",
        "                    i+=1\n",
        "                    j+=1\n",
        "             \n",
        "            elif L[2] == R[0] :\n",
        "                out.append(L)\n",
        "                out.append(R)\n",
        "                i+=1\n",
        "                j+=1\n",
        "            \n",
        "            else:\n",
        "                #Taken care with above preprocessing\n",
        "                i+=1\n",
        "                j+=1        \n",
        "        \n",
        "    return out\n",
        "  \n",
        "\n",
        "out=[]\n",
        "result = pano(new_arr,out)\n",
        "print('Final Panorama output : ',result)\n",
        "print('Time Complexity for final Divide and Conqure method: O(nlogn) \\n')\n",
        "print('Total time complexity: O(nlogn) + O(n) + O(nlogn) + O(n) + O(nlogn) = 3*O(nlogn) + 2*O(n) i.e. it is in order of --> O(nlogn)')\n"
      ],
      "execution_count": 3,
      "outputs": [
        {
          "output_type": "stream",
          "text": [
            "Unsorted original array:  [(14, 3, 18), (14, 1, 30), (2, 3, 6), (25, 2, 125), (8, 3, 16), (7, 6, 10), (8, 5, 11)]\n",
            "Time Complexity for convertng set to list: O(n) \n",
            "\n",
            "Sorted original array:  [(2, 3, 6), (7, 6, 10), (8, 3, 16), (8, 5, 11), (14, 1, 30), (14, 3, 18), (25, 2, 125)]\n",
            "Time Complexity for mergeSort algorithm: O(nlogn) \n",
            "\n",
            "Adjusting array with same starting point:  [(2, 3, 6), (7, 6, 10), (8, 5, 11), (11, 3, 16), (14, 3, 18), (18, 1, 30), (25, 2, 125)]\n",
            "Time Complexity for iterating over each element in array once and applying mergeSort algorithm: O(n) + O(nlogn) \n",
            "\n",
            "Adding gap with zero height in array:  [(2, 3, 6), (6, 0, 7), (7, 6, 10), (8, 5, 11), (11, 3, 16), (14, 3, 18), (18, 1, 30), (25, 2, 125)]\n",
            "Time Complexity: O(n) \n",
            "\n",
            "Start creating Panorama with Divide and Conqure on modified array \n",
            " \n",
            "Final Panorama output :  [(2, 3, 6), (6, 0, 7), (7, 6, 10), (10, 5, 11), (11, 3, 16), (16, 3, 18), (25, 2, 125), (18, 1, 25)]\n",
            "Time Complexity for final Divide and Conqure method: O(nlogn) \n",
            "\n",
            "Total time complexity: O(nlogn) + O(n) + O(nlogn) + O(n) + O(nlogn) = 3*O(nlogn) + 2*O(n) i.e. it is in order of --> O(nlogn)\n"
          ],
          "name": "stdout"
        }
      ]
    },
    {
      "cell_type": "code",
      "metadata": {
        "id": "K0z_MbucFrYR",
        "colab_type": "code",
        "colab": {}
      },
      "source": [
        ""
      ],
      "execution_count": 0,
      "outputs": []
    },
    {
      "cell_type": "code",
      "metadata": {
        "id": "pGeVtBDZK2og",
        "colab_type": "code",
        "colab": {}
      },
      "source": [
        ""
      ],
      "execution_count": 0,
      "outputs": []
    },
    {
      "cell_type": "code",
      "metadata": {
        "id": "o7QPnOXvFrVh",
        "colab_type": "code",
        "colab": {}
      },
      "source": [
        ""
      ],
      "execution_count": 0,
      "outputs": []
    },
    {
      "cell_type": "code",
      "metadata": {
        "id": "UMcdhy_JFrSr",
        "colab_type": "code",
        "colab": {}
      },
      "source": [
        ""
      ],
      "execution_count": 0,
      "outputs": []
    },
    {
      "cell_type": "code",
      "metadata": {
        "id": "PxXrFrBYFrPm",
        "colab_type": "code",
        "colab": {}
      },
      "source": [
        ""
      ],
      "execution_count": 0,
      "outputs": []
    },
    {
      "cell_type": "code",
      "metadata": {
        "id": "Zpcme0XUFrM-",
        "colab_type": "code",
        "colab": {}
      },
      "source": [
        ""
      ],
      "execution_count": 0,
      "outputs": []
    },
    {
      "cell_type": "code",
      "metadata": {
        "id": "Xhy4sP91FrKI",
        "colab_type": "code",
        "colab": {}
      },
      "source": [
        ""
      ],
      "execution_count": 0,
      "outputs": []
    },
    {
      "cell_type": "code",
      "metadata": {
        "id": "s9I_dKJoFrHT",
        "colab_type": "code",
        "colab": {}
      },
      "source": [
        ""
      ],
      "execution_count": 0,
      "outputs": []
    },
    {
      "cell_type": "code",
      "metadata": {
        "id": "DGvDCWvKFrD7",
        "colab_type": "code",
        "colab": {}
      },
      "source": [
        ""
      ],
      "execution_count": 0,
      "outputs": []
    },
    {
      "cell_type": "code",
      "metadata": {
        "id": "lPz4Iaf5FrBB",
        "colab_type": "code",
        "colab": {}
      },
      "source": [
        ""
      ],
      "execution_count": 0,
      "outputs": []
    }
  ]
}