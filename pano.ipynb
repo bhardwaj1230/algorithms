{
  "nbformat": 4,
  "nbformat_minor": 0,
  "metadata": {
    "colab": {
      "name": "pano",
      "version": "0.3.2",
      "provenance": [],
      "collapsed_sections": [],
      "include_colab_link": true
    },
    "kernelspec": {
      "name": "python3",
      "display_name": "Python 3"
    }
  },
  "cells": [
    {
      "cell_type": "markdown",
      "metadata": {
        "id": "view-in-github",
        "colab_type": "text"
      },
      "source": [
        "<a href=\"https://colab.research.google.com/github/bhardwaj1230/algorithms/blob/master/pano.ipynb\" target=\"_parent\"><img src=\"https://colab.research.google.com/assets/colab-badge.svg\" alt=\"Open In Colab\"/></a>"
      ]
    },
    {
      "cell_type": "markdown",
      "metadata": {
        "id": "3mKVvuMuIN1t",
        "colab_type": "text"
      },
      "source": [
        "**Divide and Conqure !!!**"
      ]
    },
    {
      "cell_type": "code",
      "metadata": {
        "id": "D0ExIhKPmISE",
        "colab_type": "code",
        "outputId": "bab8af50-1d60-4e90-cc54-df32d3f84fa6",
        "colab": {
          "base_uri": "https://localhost:8080/",
          "height": 51
        }
      },
      "source": [
        "#Sorting\n",
        "def mergeSort(arr): \n",
        "\tif len(arr) >1: \n",
        "\t\tmid = len(arr)//2\n",
        "\t\tL = arr[:mid]\n",
        "\t\tR = arr[mid:] \n",
        "\n",
        "\t\tmergeSort(L)\n",
        "\t\tmergeSort(R)\n",
        "\n",
        "\t\ti = j = k = 0\n",
        "        \n",
        "\t\twhile i < len(L) and j < len(R): \n",
        "\t\t\tif L[i] < R[j]:\n",
        "\t\t\t\tarr[k] = L[i]\n",
        "\t\t\t\ti+=1\n",
        "\t\t\telse: \n",
        "\t\t\t\tarr[k] = R[j] \n",
        "\t\t\t\tj+=1\n",
        "\t\t\tk+=1\n",
        "\t\twhile i < len(L): \n",
        "\t\t\tarr[k] = L[i] \n",
        "\t\t\ti+=1\n",
        "\t\t\tk+=1\n",
        "\t\t\n",
        "\t\twhile j < len(R): \n",
        "\t\t\tarr[k] = R[j] \n",
        "\t\t\tj+=1\n",
        "\t\t\tk+=1\n",
        "            \n",
        "            \n",
        "#Input\n",
        "set_e = {(8, 3, 16), (2, 3, 6), (8, 5, 11), (25, 2, 125), (14, 3, 18), (7, 6, 10), (14, 1, 30)}\n",
        "set_e = {(1,1,2),(1,4,6),(2,2,9),(10,1,12)}\n",
        "\n",
        "#Sorting Original array\n",
        "arr =[]\n",
        "for a,h,b in set_e:\n",
        "    arr.append((a,h,b))\n",
        "\n",
        "mergeSort(arr)\n",
        "print('Original: ',arr)\n",
        "\n",
        "#Preprocessing and sorting new array:\n",
        "for i in range(len(arr)):    \n",
        "    if i < len(arr)-1:\n",
        "\n",
        "        if arr[i][0] == arr[i+1][0] and arr[i][1] < arr[i+1][1]:\n",
        "            \n",
        "            if arr[i+1][2] < arr[i][2]:\n",
        "                arr.append((arr[i+1][2], arr[i][1], arr[i][2]))\n",
        "                arr.remove(arr[i])\n",
        "                \n",
        "            elif arr[i+1][2] > arr[i][2]:\n",
        "                arr.remove(arr[i])\n",
        "\n",
        "mergeSort(arr)\n",
        "print('New Array: ',arr)"
      ],
      "execution_count": 243,
      "outputs": [
        {
          "output_type": "stream",
          "text": [
            "Original:  [(1, 1, 2), (1, 4, 6), (2, 2, 9), (10, 1, 12)]\n",
            "New Array:  [(1, 4, 6), (2, 2, 9), (10, 1, 12)]\n"
          ],
          "name": "stdout"
        }
      ]
    },
    {
      "cell_type": "code",
      "metadata": {
        "id": "qfEc5BnXIG6L",
        "colab_type": "code",
        "colab": {}
      },
      "source": [
        "def pano(arr,out):\n",
        "    \n",
        "    if len(arr) >1:\n",
        "        \n",
        "        mid = len(arr)//2\n",
        "        \n",
        "        Left = arr[:mid]\n",
        "        Right = arr[mid:] \n",
        "        \n",
        "        pano(Left,out)\n",
        "        pano(Right,out)\n",
        "        \n",
        "        i = j = 0\n",
        "        \n",
        "        while i < len(Left) and j < len(Right):\n",
        "            \n",
        "            L = Left[0]\n",
        "            R = Right[0]\n",
        "            print('L: ',L)\n",
        "            print('R: ',R)\n",
        "            \n",
        "            #check overlap\n",
        "            if R[0] > L[0] and R[0] < L[2] and R[2] > L[2]:\n",
        "\n",
        "                if R[1] <= L[1]:\n",
        "                    out.append((L[0],L[1],L[2]))\n",
        "                    out.append((L[2],R[1],R[2]))\n",
        "                    i+=1\n",
        "                    j+=1\n",
        "                    print('case 1')\n",
        "                else:\n",
        "                    out.append((L[0],L[1],R[0]))\n",
        "                    out.append((R[0],R[1],R[2]))\n",
        "                    i+=1\n",
        "                    j+=1\n",
        "                    print('case 2')\n",
        "                    \n",
        "            #No overlap\n",
        "            else:\n",
        "                out.append((L[0],L[1],L[2]))\n",
        "                out.append((R[0],R[1],R[2]))\n",
        "                out.append((L[2],0,R[0]))\n",
        "                i+=1\n",
        "                j+=1\n",
        "                print('case 3')\n",
        "                \n",
        "            print('arr : ',arr)\n",
        "            print('out: ', out)\n",
        "            print('i,j :',i,j)\n",
        "            \n",
        "    return out\n",
        "        "
      ],
      "execution_count": 0,
      "outputs": []
    },
    {
      "cell_type": "code",
      "metadata": {
        "id": "wAgasLQmIG3P",
        "colab_type": "code",
        "outputId": "3d4ef0de-4faa-400b-b1af-25291f81351c",
        "colab": {
          "base_uri": "https://localhost:8080/",
          "height": 221
        }
      },
      "source": [
        "out = []\n",
        "result = pano(arr,out)"
      ],
      "execution_count": 233,
      "outputs": [
        {
          "output_type": "stream",
          "text": [
            "L:  (2, 2, 9)\n",
            "R:  (10, 1, 12)\n",
            "case 3\n",
            "arr :  [(2, 2, 9), (10, 1, 12)]\n",
            "out:  [(2, 2, 9), (10, 1, 12), (9, 0, 10)]\n",
            "i,j : 1 1\n",
            "L:  (1, 4, 6)\n",
            "R:  (2, 2, 9)\n",
            "case 1\n",
            "arr :  [(1, 4, 6), (2, 2, 9), (10, 1, 12)]\n",
            "out:  [(2, 2, 9), (10, 1, 12), (9, 0, 10), (1, 4, 6), (6, 2, 9)]\n",
            "i,j : 1 1\n"
          ],
          "name": "stdout"
        }
      ]
    },
    {
      "cell_type": "code",
      "metadata": {
        "id": "zXh30r_4IGtO",
        "colab_type": "code",
        "outputId": "d0ff698e-c8f6-405a-c620-dbc8409b896a",
        "colab": {
          "base_uri": "https://localhost:8080/",
          "height": 34
        }
      },
      "source": [
        "mergeSort(result)\n",
        "\n",
        "for i in range(len(result)):\n",
        "    if i < len(result)-1:\n",
        "        if result[i][0] == result[i+1][0]:\n",
        "            result.remove(result[i])\n",
        "            \n",
        "print('Final Results: ', result)"
      ],
      "execution_count": 234,
      "outputs": [
        {
          "output_type": "stream",
          "text": [
            "Final Results:  [(1, 4, 6), (2, 2, 9), (6, 2, 9), (9, 0, 10), (10, 1, 12)]\n"
          ],
          "name": "stdout"
        }
      ]
    },
    {
      "cell_type": "code",
      "metadata": {
        "id": "F_uA2LfaH3ku",
        "colab_type": "code",
        "colab": {
          "base_uri": "https://localhost:8080/",
          "height": 34
        },
        "outputId": "61a6c712-59df-4766-bbc4-ead4ada9bb28"
      },
      "source": [
        "result"
      ],
      "execution_count": 235,
      "outputs": [
        {
          "output_type": "execute_result",
          "data": {
            "text/plain": [
              "[(1, 4, 6), (2, 2, 9), (6, 2, 9), (9, 0, 10), (10, 1, 12)]"
            ]
          },
          "metadata": {
            "tags": []
          },
          "execution_count": 235
        }
      ]
    },
    {
      "cell_type": "code",
      "metadata": {
        "id": "10N0pBYEKJrn",
        "colab_type": "code",
        "colab": {}
      },
      "source": [
        ""
      ],
      "execution_count": 0,
      "outputs": []
    },
    {
      "cell_type": "code",
      "metadata": {
        "id": "0gxucqGwKJov",
        "colab_type": "code",
        "colab": {}
      },
      "source": [
        ""
      ],
      "execution_count": 0,
      "outputs": []
    },
    {
      "cell_type": "code",
      "metadata": {
        "id": "YaSVUebhKJlq",
        "colab_type": "code",
        "colab": {}
      },
      "source": [
        ""
      ],
      "execution_count": 0,
      "outputs": []
    },
    {
      "cell_type": "code",
      "metadata": {
        "id": "xSKUDCm4KJhu",
        "colab_type": "code",
        "colab": {}
      },
      "source": [
        ""
      ],
      "execution_count": 0,
      "outputs": []
    },
    {
      "cell_type": "code",
      "metadata": {
        "id": "2lCrrXQFKJdV",
        "colab_type": "code",
        "colab": {}
      },
      "source": [
        ""
      ],
      "execution_count": 0,
      "outputs": []
    },
    {
      "cell_type": "code",
      "metadata": {
        "id": "dV-Gz_rhmH8x",
        "colab_type": "code",
        "colab": {
          "base_uri": "https://localhost:8080/",
          "height": 51
        },
        "outputId": "b1305920-c767-4227-b9e3-4d50102843fb"
      },
      "source": [
        "#Sorting\n",
        "def mergeSort(arr): \n",
        "\tif len(arr) >1: \n",
        "\t\tmid = len(arr)//2\n",
        "\t\tL = arr[:mid]\n",
        "\t\tR = arr[mid:] \n",
        "\n",
        "\t\tmergeSort(L)\n",
        "\t\tmergeSort(R)\n",
        "\n",
        "\t\ti = j = k = 0\n",
        "        \n",
        "\t\twhile i < len(L) and j < len(R): \n",
        "\t\t\tif L[i] < R[j]:\n",
        "\t\t\t\tarr[k] = L[i]\n",
        "\t\t\t\ti+=1\n",
        "\t\t\telse: \n",
        "\t\t\t\tarr[k] = R[j] \n",
        "\t\t\t\tj+=1\n",
        "\t\t\tk+=1\n",
        "\t\twhile i < len(L): \n",
        "\t\t\tarr[k] = L[i] \n",
        "\t\t\ti+=1\n",
        "\t\t\tk+=1\n",
        "\t\t\n",
        "\t\twhile j < len(R): \n",
        "\t\t\tarr[k] = R[j] \n",
        "\t\t\tj+=1\n",
        "\t\t\tk+=1\n",
        "            \n",
        "            \n",
        "#Input\n",
        "#set_e = {(8, 3, 16), (2, 3, 6), (8, 5, 11), (25, 2, 125), (14, 3, 18), (7, 6, 10), (14, 1, 30)}\n",
        "set_e = {(1,1,2),(1,4,6),(2,2,9),(10,1,12)}\n",
        "\n",
        "#Sorting Original array\n",
        "arr =[]\n",
        "for a,h,b in set_e:\n",
        "    arr.append((a,h,b))\n",
        "\n",
        "mergeSort(arr)\n",
        "print('Original: ',arr)\n",
        "\n",
        "#Preprocessing and sorting new array:\n",
        "for i in range(len(arr)):    \n",
        "    if i < len(arr)-1:\n",
        "\n",
        "        if arr[i][0] == arr[i+1][0] and arr[i][1] < arr[i+1][1]:\n",
        "            \n",
        "            if arr[i+1][2] < arr[i][2]:\n",
        "                arr.append((arr[i+1][2], arr[i][1], arr[i][2]))\n",
        "                arr.remove(arr[i])\n",
        "                \n",
        "            elif arr[i+1][2] > arr[i][2]:\n",
        "                arr.remove(arr[i])\n",
        "\n",
        "        \n",
        "mergeSort(arr)\n",
        "print('New Array: ',arr)\n",
        "    \n",
        "    \n",
        "def pano(arr,out):\n",
        "    \n",
        "    if len(arr) >1:\n",
        "        \n",
        "        mid = len(arr)//2\n",
        "        \n",
        "        Left = arr[:mid]\n",
        "        Right = arr[mid:] \n",
        "        \n",
        "        pano(Left,out)\n",
        "        pano(Right,out)\n",
        "        \n",
        "        i = j = k = 0\n",
        "        \n",
        "        while i < len(Left) and j < len(Right):\n",
        "            \n",
        "            L = Left[0]\n",
        "            R = Right[0]\n",
        "            print('L: ',L)\n",
        "            print('R: ',R)\n",
        "            \n",
        "            #check overlap\n",
        "            if R[0] > L[0] and R[0] < L[2] and R[2] > L[2]:\n",
        "\n",
        "                if R[1] <= L[1]:\n",
        "                    out.append(L)\n",
        "                    out.append((L[2],R[1],R[2]))\n",
        "                    i+=1\n",
        "                    j+=1\n",
        "                    print('case 1')\n",
        "                else:\n",
        "                    out.append(R)\n",
        "                    out.append((L[0],L[1],R[0]))\n",
        "                    i+=1\n",
        "                    j+=1\n",
        "                    print('case 2')\n",
        "                    \n",
        "            #No overlap\n",
        "            else:\n",
        "                #out.append((L[2],0,R[0]))\n",
        "                i+=1\n",
        "                j+=1\n",
        "                print('case 3')\n",
        "                \n",
        "            print('arr : ',arr)\n",
        "            print('out : ',out)\n",
        "            print('\\n')\n",
        "            \n",
        "    return arr\n",
        "        "
      ],
      "execution_count": 92,
      "outputs": [
        {
          "output_type": "stream",
          "text": [
            "Original:  [(1, 1, 2), (1, 4, 6), (2, 2, 9), (10, 1, 12)]\n",
            "New Array:  [(1, 4, 6), (2, 2, 9), (10, 1, 12)]\n"
          ],
          "name": "stdout"
        }
      ]
    },
    {
      "cell_type": "code",
      "metadata": {
        "id": "t2nEoqjXFriQ",
        "colab_type": "code",
        "colab": {
          "base_uri": "https://localhost:8080/",
          "height": 272
        },
        "outputId": "a778ae38-89a8-4df9-cf81-91fff7ffeef9"
      },
      "source": [
        "print(arr)\n",
        "out=[]\n",
        "result = pano(arr,out)"
      ],
      "execution_count": 93,
      "outputs": [
        {
          "output_type": "stream",
          "text": [
            "[(1, 4, 6), (2, 2, 9), (10, 1, 12)]\n",
            "L:  (2, 2, 9)\n",
            "R:  (10, 1, 12)\n",
            "case 3\n",
            "arr :  [(2, 2, 9), (10, 1, 12)]\n",
            "out :  []\n",
            "\n",
            "\n",
            "L:  (1, 4, 6)\n",
            "R:  (2, 2, 9)\n",
            "case 1\n",
            "arr :  [(1, 4, 6), (2, 2, 9), (10, 1, 12)]\n",
            "out :  [(1, 4, 6), (6, 2, 9)]\n",
            "\n",
            "\n"
          ],
          "name": "stdout"
        }
      ]
    },
    {
      "cell_type": "code",
      "metadata": {
        "id": "4oWMqQ1qFrgB",
        "colab_type": "code",
        "colab": {}
      },
      "source": [
        "arr :  [(2, 3, 6), (7, 6, 10), (8, 5, 11), (11, 3, 16), (14, 3, 18), (18, 1, 30), (25, 2, 125)]\n",
        "out :  [(7, 6, 10), (10, 5, 11), (11, 3, 16), (16, 3, 18), (25, 2, 125), (18, 1, 25)]\n",
        "\n"
      ],
      "execution_count": 0,
      "outputs": []
    },
    {
      "cell_type": "code",
      "metadata": {
        "id": "Zyebsct7Frax",
        "colab_type": "code",
        "colab": {
          "base_uri": "https://localhost:8080/",
          "height": 34
        },
        "outputId": "74f56526-6e2e-4709-ce7a-3587831d0c88"
      },
      "source": [
        "arr"
      ],
      "execution_count": 68,
      "outputs": [
        {
          "output_type": "execute_result",
          "data": {
            "text/plain": [
              "[(1, 4, 6), (2, 2, 9), (10, 1, 12)]"
            ]
          },
          "metadata": {
            "tags": []
          },
          "execution_count": 68
        }
      ]
    },
    {
      "cell_type": "code",
      "metadata": {
        "id": "K0z_MbucFrYR",
        "colab_type": "code",
        "colab": {}
      },
      "source": [
        ""
      ],
      "execution_count": 0,
      "outputs": []
    },
    {
      "cell_type": "code",
      "metadata": {
        "id": "o7QPnOXvFrVh",
        "colab_type": "code",
        "colab": {}
      },
      "source": [
        ""
      ],
      "execution_count": 0,
      "outputs": []
    },
    {
      "cell_type": "code",
      "metadata": {
        "id": "UMcdhy_JFrSr",
        "colab_type": "code",
        "colab": {}
      },
      "source": [
        ""
      ],
      "execution_count": 0,
      "outputs": []
    },
    {
      "cell_type": "code",
      "metadata": {
        "id": "PxXrFrBYFrPm",
        "colab_type": "code",
        "colab": {}
      },
      "source": [
        ""
      ],
      "execution_count": 0,
      "outputs": []
    },
    {
      "cell_type": "code",
      "metadata": {
        "id": "Zpcme0XUFrM-",
        "colab_type": "code",
        "colab": {}
      },
      "source": [
        ""
      ],
      "execution_count": 0,
      "outputs": []
    },
    {
      "cell_type": "code",
      "metadata": {
        "id": "Xhy4sP91FrKI",
        "colab_type": "code",
        "colab": {}
      },
      "source": [
        ""
      ],
      "execution_count": 0,
      "outputs": []
    },
    {
      "cell_type": "code",
      "metadata": {
        "id": "s9I_dKJoFrHT",
        "colab_type": "code",
        "colab": {}
      },
      "source": [
        ""
      ],
      "execution_count": 0,
      "outputs": []
    },
    {
      "cell_type": "code",
      "metadata": {
        "id": "DGvDCWvKFrD7",
        "colab_type": "code",
        "colab": {}
      },
      "source": [
        ""
      ],
      "execution_count": 0,
      "outputs": []
    },
    {
      "cell_type": "code",
      "metadata": {
        "id": "lPz4Iaf5FrBB",
        "colab_type": "code",
        "colab": {}
      },
      "source": [
        ""
      ],
      "execution_count": 0,
      "outputs": []
    },
    {
      "cell_type": "code",
      "metadata": {
        "id": "ZQyYwfwMFq-S",
        "colab_type": "code",
        "colab": {}
      },
      "source": [
        ""
      ],
      "execution_count": 0,
      "outputs": []
    },
    {
      "cell_type": "code",
      "metadata": {
        "id": "KeZUz4bGFq7C",
        "colab_type": "code",
        "colab": {}
      },
      "source": [
        ""
      ],
      "execution_count": 0,
      "outputs": []
    }
  ]
}