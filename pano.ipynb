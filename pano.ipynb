{
  "nbformat": 4,
  "nbformat_minor": 0,
  "metadata": {
    "colab": {
      "name": "pano",
      "version": "0.3.2",
      "provenance": [],
      "collapsed_sections": [],
      "include_colab_link": true
    },
    "kernelspec": {
      "name": "python3",
      "display_name": "Python 3"
    }
  },
  "cells": [
    {
      "cell_type": "markdown",
      "metadata": {
        "id": "view-in-github",
        "colab_type": "text"
      },
      "source": [
        "<a href=\"https://colab.research.google.com/github/bhardwaj1230/algorithms/blob/master/pano.ipynb\" target=\"_parent\"><img src=\"https://colab.research.google.com/assets/colab-badge.svg\" alt=\"Open In Colab\"/></a>"
      ]
    },
    {
      "cell_type": "markdown",
      "metadata": {
        "id": "3mKVvuMuIN1t",
        "colab_type": "text"
      },
      "source": [
        "**Divide and Conqure !!!**"
      ]
    },
    {
      "cell_type": "code",
      "metadata": {
        "id": "dV-Gz_rhmH8x",
        "colab_type": "code",
        "outputId": "d0afb4c7-81ee-4ccd-d8fb-ffe6ae06e566",
        "colab": {
          "base_uri": "https://localhost:8080/",
          "height": 323
        }
      },
      "source": [
        "#Sorting Orginal Array:\n",
        "\n",
        "def mergeSort(arr): \n",
        "\tif len(arr) >1: \n",
        "\t\tmid = len(arr)//2\n",
        "\t\tL = arr[:mid]\n",
        "\t\tR = arr[mid:] \n",
        "\n",
        "\t\tmergeSort(L)\n",
        "\t\tmergeSort(R)\n",
        "\n",
        "\t\ti = j = k = 0\n",
        "        \n",
        "\t\twhile i < len(L) and j < len(R): \n",
        "\t\t\tif L[i] < R[j]:\n",
        "\t\t\t\tarr[k] = L[i]\n",
        "\t\t\t\ti+=1\n",
        "\t\t\telse: \n",
        "\t\t\t\tarr[k] = R[j] \n",
        "\t\t\t\tj+=1\n",
        "\t\t\tk+=1\n",
        "\t\twhile i < len(L): \n",
        "\t\t\tarr[k] = L[i] \n",
        "\t\t\ti+=1\n",
        "\t\t\tk+=1\n",
        "\t\t\n",
        "\t\twhile j < len(R): \n",
        "\t\t\tarr[k] = R[j] \n",
        "\t\t\tj+=1\n",
        "\t\t\tk+=1\n",
        "            \n",
        "            \n",
        "#Input\n",
        "set_e = {(8, 3, 16), (2, 3, 6), (8, 5, 11), (25, 2, 125), (14, 3, 18), (7, 6, 10), (14, 1, 30)}\n",
        "\n",
        "#Converting set to array:\n",
        "arr =[]\n",
        "for a,h,b in set_e:\n",
        "    arr.append((a,h,b))\n",
        "print('Unsorted original array: ',arr)\n",
        "print('** Time Complexity for convertng set to list: O(n) \\n')\n",
        "\n",
        "#Sorting the array with left element of each tuple:\n",
        "mergeSort(arr)\n",
        "print('Sorted original array: ',arr)\n",
        "print('** Time Complexity for mergeSort algorithm: O(nlogn) \\n')\n",
        "\n",
        "#Preprocessing the sorted blocks with same starting point and overlapping and sorting new array:\n",
        "new_arr = []\n",
        "for i in range(len(arr)):    \n",
        "\n",
        "    if  i < len(arr)-1 and arr[i][0] == arr[i+1][0]: #First element of left and right block is same\n",
        "\n",
        "        if arr[i][1] < arr[i+1][1] and arr[i][2] > arr[i+1][2]: #Overlap with left block smaller than right\n",
        "            new_arr.append((arr[i+1][2], arr[i][1], arr[i][2]))\n",
        "\n",
        "        elif arr[i][1] < arr[i+1][1] and arr[i][2] < arr[i+1][2]: #Left block is under right\n",
        "            print('taken care with elif conditon')\n",
        "\n",
        "        elif arr[i][1] > arr[i+1][1] and arr[i][2] > arr[i+1][2]: #Right block is under left\n",
        "            print('taken care with elif conditon')\n",
        "\n",
        "        elif arr[i][1] > arr[i+1][1] and arr[i][2] < arr[i+1][2]: #Overlap with right block smaller than left\n",
        "            new_arr.append((arr[i][2], arr[i+1][1], arr[i+1][2]))\n",
        "\n",
        "    elif i < len(arr):\n",
        "        new_arr.append(arr[i]) #Appending the rest of the element\n",
        "\n",
        "        \n",
        "mergeSort(new_arr)\n",
        "print('Adjusting array with same starting point: ',new_arr)\n",
        "print('** Time Complexity for iterating over each element in array once and applying mergeSort algorithm: O(n) + O(nlogn) \\n')\n",
        "\n",
        "#Preprocessing the sorted blocks with gap, Adding gap with zero height in array:\n",
        "for i in range(len(new_arr)):\n",
        "    if i < len(new_arr)-1:\n",
        "        \n",
        "        if new_arr[i][2] < new_arr[i+1][0]:\n",
        "            new_arr.append((new_arr[i][2],0,new_arr[i+1][0])) #Creating new block with zero height\n",
        "    \n",
        "mergeSort(new_arr)\n",
        "print('Adding gap with zero height in array: ',new_arr)\n",
        "print('** Time Complexity: O(n) \\n')\n",
        "\n",
        "print('Start creating Panorama with Divide and Conqure on modified array \\n ')\n",
        "\n",
        "def pano(arr,out):\n",
        "\n",
        "    if len(arr) >1:\n",
        "        \n",
        "        mid = len(arr)//2\n",
        "        Left = arr[:mid]\n",
        "        Right = arr[mid:]      \n",
        "        pano(Left,out)\n",
        "        pano(Right,out)\n",
        "        \n",
        "        i = j = k = 0\n",
        "        while i < len(Left) and j < len(Right):\n",
        "            \n",
        "            L = Left[0]\n",
        "            R = Right[0]\n",
        "            \n",
        "            #check overlap\n",
        "            if R[0] > L[0] and R[0] < L[2] and R[2] > L[2]: #Clear overlap between two block\n",
        "\n",
        "                if R[1] <= L[1]: #Overlap with left block height higher\n",
        "                    out.append(L)\n",
        "                    out.append((L[2],R[1],R[2]))\n",
        "                    i+=1\n",
        "                    j+=1\n",
        "                else: #Overlap with right block height higher\n",
        "                    out.append(R)\n",
        "                    out.append((L[0],L[1],R[0]))\n",
        "                    i+=1\n",
        "                    j+=1\n",
        "             \n",
        "            elif L[2] == R[0] : #No overlap, contineous two block\n",
        "                out.append(L)\n",
        "                out.append(R)\n",
        "                i+=1\n",
        "                j+=1\n",
        "            \n",
        "            else:\n",
        "                #Taken care with above preprocessing\n",
        "                i+=1\n",
        "                j+=1        \n",
        "        \n",
        "    return out\n",
        "  \n",
        "\n",
        "out=[]\n",
        "result = pano(new_arr,out)\n",
        "print('Final Panorama output : ',result)\n",
        "print('** Time Complexity for final Divide and Conqure method: O(nlogn) \\n')\n",
        "print('** Total time complexity: O(nlogn) + O(n) + O(nlogn) + O(n) + O(nlogn) = 3*O(nlogn) + 2*O(n) i.e. it is in order of --> O(nlogn)')\n"
      ],
      "execution_count": 18,
      "outputs": [
        {
          "output_type": "stream",
          "text": [
            "Unsorted original array:  [(14, 3, 18), (14, 1, 30), (2, 3, 6), (25, 2, 125), (8, 3, 16), (7, 6, 10), (8, 5, 11)]\n",
            "** Time Complexity for convertng set to list: O(n) \n",
            "\n",
            "Sorted original array:  [(2, 3, 6), (7, 6, 10), (8, 3, 16), (8, 5, 11), (14, 1, 30), (14, 3, 18), (25, 2, 125)]\n",
            "** Time Complexity for mergeSort algorithm: O(nlogn) \n",
            "\n",
            "Adjusting array with same starting point:  [(2, 3, 6), (7, 6, 10), (8, 5, 11), (11, 3, 16), (14, 3, 18), (18, 1, 30), (25, 2, 125)]\n",
            "** Time Complexity for iterating over each element in array once and applying mergeSort algorithm: O(n) + O(nlogn) \n",
            "\n",
            "Adding gap with zero height in array:  [(2, 3, 6), (6, 0, 7), (7, 6, 10), (8, 5, 11), (11, 3, 16), (14, 3, 18), (18, 1, 30), (25, 2, 125)]\n",
            "** Time Complexity: O(n) \n",
            "\n",
            "Start creating Panorama with Divide and Conqure on modified array \n",
            " \n",
            "Final Panorama output :  [(2, 3, 6), (6, 0, 7), (7, 6, 10), (10, 5, 11), (11, 3, 16), (16, 3, 18), (25, 2, 125), (18, 1, 25)]\n",
            "** Time Complexity for final Divide and Conqure method: O(nlogn) \n",
            "\n",
            "** Total time complexity: O(nlogn) + O(n) + O(nlogn) + O(n) + O(nlogn) = 3*O(nlogn) + 2*O(n) i.e. it is in order of --> O(nlogn)\n"
          ],
          "name": "stdout"
        }
      ]
    },
    {
      "cell_type": "code",
      "metadata": {
        "id": "K0z_MbucFrYR",
        "colab_type": "code",
        "colab": {}
      },
      "source": [
        ""
      ],
      "execution_count": 0,
      "outputs": []
    },
    {
      "cell_type": "code",
      "metadata": {
        "id": "pGeVtBDZK2og",
        "colab_type": "code",
        "colab": {}
      },
      "source": [
        ""
      ],
      "execution_count": 0,
      "outputs": []
    },
    {
      "cell_type": "code",
      "metadata": {
        "id": "o7QPnOXvFrVh",
        "colab_type": "code",
        "colab": {}
      },
      "source": [
        ""
      ],
      "execution_count": 0,
      "outputs": []
    },
    {
      "cell_type": "code",
      "metadata": {
        "id": "UMcdhy_JFrSr",
        "colab_type": "code",
        "colab": {}
      },
      "source": [
        ""
      ],
      "execution_count": 0,
      "outputs": []
    },
    {
      "cell_type": "code",
      "metadata": {
        "id": "PxXrFrBYFrPm",
        "colab_type": "code",
        "colab": {}
      },
      "source": [
        ""
      ],
      "execution_count": 0,
      "outputs": []
    },
    {
      "cell_type": "code",
      "metadata": {
        "id": "Zpcme0XUFrM-",
        "colab_type": "code",
        "colab": {}
      },
      "source": [
        ""
      ],
      "execution_count": 0,
      "outputs": []
    },
    {
      "cell_type": "code",
      "metadata": {
        "id": "Xhy4sP91FrKI",
        "colab_type": "code",
        "colab": {}
      },
      "source": [
        ""
      ],
      "execution_count": 0,
      "outputs": []
    },
    {
      "cell_type": "code",
      "metadata": {
        "id": "s9I_dKJoFrHT",
        "colab_type": "code",
        "colab": {}
      },
      "source": [
        ""
      ],
      "execution_count": 0,
      "outputs": []
    },
    {
      "cell_type": "code",
      "metadata": {
        "id": "DGvDCWvKFrD7",
        "colab_type": "code",
        "colab": {}
      },
      "source": [
        ""
      ],
      "execution_count": 0,
      "outputs": []
    },
    {
      "cell_type": "code",
      "metadata": {
        "id": "lPz4Iaf5FrBB",
        "colab_type": "code",
        "colab": {
          "base_uri": "https://localhost:8080/",
          "height": 68
        },
        "outputId": "115f6a92-7b76-4451-fff4-817be117ab38"
      },
      "source": [
        "import numpy as np\n",
        "import math\n",
        "import sys\n",
        "\n",
        "def Search(arr, n, odd, alpha, flag):\n",
        "    \n",
        "    if flag:\n",
        "        if odd:\n",
        "            if arr[n - 1] - alpha < n - 1:\n",
        "                print('No index found')\n",
        "                return 0\n",
        "            elif arr[n - 1] - alpha == n - 1:\n",
        "                print('Answer is index ', n - 1 + alpha)\n",
        "                #sys.exit()\n",
        "                flag = False\n",
        "            elif arr[n - 1] - alpha > n - 1:\n",
        "                n = math.floor(n / 2)\n",
        "                odd = False\n",
        "                Search(arr, n, odd, alpha, flag)\n",
        "            else:\n",
        "                print('Something is wrong')\n",
        "\n",
        "        elif flag:\n",
        "            if arr[n] - alpha < n:\n",
        "                print('searching upper')\n",
        "                odd = True\n",
        "                alpha = len(arr[n:])\n",
        "                Search(arr[n:], n, odd, alpha, flag)  # search upper\n",
        "            elif arr[n] - alpha == n:\n",
        "                print('Answer is index ', n + alpha)\n",
        "                #sys.exit()\n",
        "                flag = False\n",
        "            elif arr[n] - alpha > n:\n",
        "                print('searching lower')\n",
        "                odd = True\n",
        "                Search(arr[:n], n, odd, alpha, flag)  # search lower\n",
        "            else:\n",
        "                print('Something is wrong')\n",
        "\n",
        "if __name__ == '__main__':\n",
        "    # A1 = [-2,-1,1,2,4,6]\n",
        "\n",
        "    # A1 = [0,3,4,5,7,9]\n",
        "    # A1 = [-2,-1,0,1,4,6,11,13,14,15,17,19]\n",
        "    A1 = [-2, 1, 3, 4, 5, 6,7, 13, 14, 15, 17, 19]\n",
        "    A1_np = np.asarray(A1)\n",
        "    Search(A1_np, A1_np.shape[0], odd=True, alpha=0, flag=True)"
      ],
      "execution_count": 15,
      "outputs": [
        {
          "output_type": "stream",
          "text": [
            "searching lower\n",
            "searching lower\n",
            "Answer is index  1\n"
          ],
          "name": "stdout"
        }
      ]
    },
    {
      "cell_type": "code",
      "metadata": {
        "id": "fl3t2NrOglXh",
        "colab_type": "code",
        "colab": {
          "base_uri": "https://localhost:8080/",
          "height": 51
        },
        "outputId": "8969a84f-05e8-44b5-d18c-9a895c7714fb"
      },
      "source": [
        "import math\n",
        "\n",
        "\n",
        "def merge(arr):\n",
        "    if len(arr) > 1:\n",
        "        n = math.ceil(len(arr)/3)\n",
        "        L = arr[:n]\n",
        "        M = arr[n:2*n]\n",
        "        R = arr[2*n:]\n",
        "        M_len = len(M)\n",
        "        R_len = len(R)\n",
        "        L_len = len(L)\n",
        "\n",
        "        merge(L)\n",
        "        merge(M)\n",
        "        merge(R)\n",
        "        i, j, k, l = 0,0,0,0\n",
        "        # first, we need to compare values and sort for all 3\n",
        "        while i < L_len and j < M_len and k < R_len:\n",
        "            if L[i] < M[j] and L[i] < R[k]:\n",
        "                arr[l] = L[i]\n",
        "                i += 1\n",
        "            elif M[j] < L[i] and M[j] < R[k]:\n",
        "                arr[l] = M[j]\n",
        "                j += 1\n",
        "            else:\n",
        "                arr[l] = R[k]\n",
        "                k += 1\n",
        "\n",
        "            l += 1\n",
        "        # now compare and sort for the remaining 2, if they exist\n",
        "        if i == L_len:\n",
        "            arr, M, R, j, k, l = sort2(arr, M, R, j, k, l)\n",
        "        elif j == M_len:\n",
        "            arr, L, R, i, k, l = sort2(arr, L, R, i, k, l)\n",
        "        else:\n",
        "            arr, L, M, i, j, l = sort2(arr, L, M, i, j, l)\n",
        "        # now clean up the rest\n",
        "        while i < L_len:\n",
        "            arr[l] = L[i]\n",
        "            i+=1\n",
        "            l+=1\n",
        "        while j < M_len:\n",
        "            arr[l] = M[j]\n",
        "            j+=1\n",
        "            l+=1\n",
        "        while k < R_len:\n",
        "            arr[l] = R[k]\n",
        "            k+=1\n",
        "            l+=1\n",
        "    return arr\n",
        "\n",
        "\n",
        "def sort2(arr, subarr1, subarr2, subarr1_index, subarr2_index, arr_index):\n",
        "    while subarr1_index < len(subarr1) and subarr2_index < len(subarr2):\n",
        "        if subarr1[subarr1_index] < subarr2[subarr2_index]:\n",
        "            arr[arr_index] = subarr1[subarr1_index]\n",
        "            subarr1_index += 1\n",
        "        else:\n",
        "            arr[arr_index] = subarr2[subarr2_index]\n",
        "            subarr2_index += 1\n",
        "        arr_index += 1\n",
        "    return arr, subarr1, subarr2, subarr1_index, subarr2_index, arr_index\n",
        "\n",
        "\n",
        "if __name__ == '__main__':\n",
        "    A1 = [1,2,4,65,11,9,7,8,3,55,5,45,76,99]\n",
        "    print('The original array is', A1)\n",
        "    A1_sorted = merge(A1)\n",
        "    print('The sorted array is',A1_sorted)"
      ],
      "execution_count": 16,
      "outputs": [
        {
          "output_type": "stream",
          "text": [
            "The original array is [1, 2, 4, 65, 11, 9, 7, 8, 3, 55, 5, 45, 76, 99]\n",
            "The sorted array is [1, 2, 3, 4, 5, 7, 8, 9, 11, 45, 55, 65, 76, 99]\n"
          ],
          "name": "stdout"
        }
      ]
    }
  ]
}