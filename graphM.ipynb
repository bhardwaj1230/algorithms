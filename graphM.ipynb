{
  "nbformat": 4,
  "nbformat_minor": 0,
  "metadata": {
    "colab": {
      "name": "graphM",
      "version": "0.3.2",
      "provenance": [],
      "collapsed_sections": [],
      "include_colab_link": true
    },
    "kernelspec": {
      "name": "python3",
      "display_name": "Python 3"
    }
  },
  "cells": [
    {
      "cell_type": "markdown",
      "metadata": {
        "id": "view-in-github",
        "colab_type": "text"
      },
      "source": [
        "<a href=\"https://colab.research.google.com/github/bhardwaj1230/algorithms/blob/master/graphM.ipynb\" target=\"_parent\"><img src=\"https://colab.research.google.com/assets/colab-badge.svg\" alt=\"Open In Colab\"/></a>"
      ]
    },
    {
      "cell_type": "code",
      "metadata": {
        "id": "q-Bbs-YP3izn",
        "colab_type": "code",
        "outputId": "a73bf9c1-61eb-42e5-fe12-efcc53fddde6",
        "colab": {
          "base_uri": "https://localhost:8080/",
          "height": 72
        }
      },
      "source": [
        "#This function takes a graph M represented as an adjacency matrix\n",
        "#and returns a stable that we hope to be as big as possible.\n",
        "\n",
        "\n",
        "\n",
        "import numpy as np\n",
        "\n",
        "def stable(M):\n",
        "    \n",
        "    #store the vertices and its connections:\n",
        "    seq_list = []\n",
        "    #loop over each element of adjemcy matrix:\n",
        "    for row,line in enumerate(M):\n",
        "        col_collect = []\n",
        "        for col,val in enumerate(line):\n",
        "            if val == 1:\n",
        "                col_collect.append(col)\n",
        "        # store #of connection for each vertices, the vertices and its connections\n",
        "        seq_list.append((len(col_collect),row,col_collect)) \n",
        "    #sort the list in acesnding order:\n",
        "    sorted_nodes = sorted(seq_list,key=lambda x: x[0],reverse=False)\n",
        "    sorted_nodes = np.array(sorted_nodes)\n",
        "\n",
        "    ind_set = []\n",
        "    #loop till the list get exausted:\n",
        "    while len(sorted_nodes) != 0:\n",
        "        for sz, vertex, nodes in sorted_nodes:\n",
        "            #print(sorted_nodes[:,1] ,vertex)\n",
        "            \n",
        "            if sorted_nodes != []:\n",
        "                #storing the current minimum connected vertex from the list:\n",
        "                ind_set.append(sorted_nodes[0][1])\n",
        "\n",
        "            #remove all vertex connected to current vertex:\n",
        "            sorted_nodes = sorted_nodes[np.logical_not(np.isin(sorted_nodes[:,1],nodes))]\n",
        "            #filter those vertices including the current vertex from the list:\n",
        "            sorted_nodes = sorted_nodes[sorted_nodes[:,1] != vertex]\n",
        "\n",
        "            break\n",
        "    \n",
        "        \n",
        "    return sorted(ind_set)\n",
        "    \n",
        "    \n",
        "\n",
        "M = [[0, 1, 1, 0, 0, 1, 0, 0, 1, 1, 1, 0, 1, 0, 1, 1, 0, 1, 1, 1, 0, 0, 1, 1, 0, 0, 0, 1, 1, 1, 0, 0,],\n",
        " [1, 0, 0, 0, 0, 0, 0, 0, 1, 1, 0, 0, 0, 0, 1, 1, 0, 1, 0, 0, 0, 1, 0, 0, 0 , 0, 0, 0, 0, 1, 0, 0,],\n",
        " [1, 0, 0, 1, 0, 1, 0, 1, 1, 0, 0, 1, 0, 0, 0, 0, 0, 0, 1, 1, 1, 0, 0, 0 , 0, 0, 0, 0, 1, 0, 1,],\n",
        " [0, 0, 1, 0, 1, 0, 0, 0, 0, 1, 1, 0, 0, 0, 0, 0, 1, 0, 0, 0, 1, 0, 0, 0, 0 , 1, 0, 0, 0, 0, 0, 1,],\n",
        " [0, 0, 0, 1, 0, 0, 0, 1, 0, 0, 0, 0, 0, 1, 1, 0, 0, 0, 0, 1, 0, 0, 0, 0 , 0, 0, 0, 0, 1, 0, 0,],\n",
        " [1, 0, 1, 0, 0, 0, 0, 1, 0, 1, 1, 1, 0, 1, 0, 1, 1, 0, 0, 1, 0, 1, 0, 1, 1 , 1, 0, 1, 0, 0, 1, 1,],\n",
        " [0, 0, 0, 0, 0, 0, 0, 0, 1, 1, 0, 0, 0, 0, 0, 0, 0, 0, 0, 0, 1, 0, 0, 0 , 0, 0, 0, 0, 1, 0, 0,],\n",
        " [0, 0, 1, 0, 1, 1, 0, 0, 1, 1, 1, 0, 1, 0, 0, 1, 0, 1, 0, 1, 0, 0, 0, 1, 1 , 1, 1, 1, 1, 0, 0, 0,],\n",
        " [1, 1, 1, 0, 0, 0, 1, 1, 0, 1, 1, 1, 0, 1, 1, 0, 1, 1, 1, 1, 1, 0, 0, 1, 0 , 0, 0, 1, 1, 1, 0, 0,],\n",
        " [1, 1, 0, 1, 0, 1, 1, 1, 1, 0, 1, 1, 0, 0, 0, 0, 1, 0, 0, 1, 1, 1, 0, 0 , 0, 0, 0, 0, 0, 0, 1,],\n",
        " [1, 0, 0, 1, 0, 1, 0, 1, 1, 1, 0, 0, 0, 1, 1, 1, 0, 1, 0, 0, 1, 0, 0, 0, 0 , 0, 0, 0, 0, 1, 0, 0,],\n",
        " [0, 0, 1, 0, 0, 1, 0, 0, 1, 1, 0, 0, 1, 1, 1, 0, 1, 0, 0, 1, 1, 0, 0, 0 , 1, 0, 0, 0, 1, 0, 1,],\n",
        " [1, 0, 0, 0, 0, 0, 0, 1, 0, 0, 0, 1, 0, 0, 1, 1, 0, 1, 0, 1, 0, 1, 0, 0, 0 , 0, 0, 0, 0, 0, 0, 1,],\n",
        " [0, 0, 0, 0, 1, 1, 0, 0, 1, 0, 1, 1, 0, 0, 1, 1, 0, 0, 0, 0, 0, 0, 0, 1 , 1, 1, 1, 0, 1, 0, 0,],\n",
        " [1, 1, 0, 0, 1, 0, 0, 0, 1, 0, 1, 1, 1, 1, 0, 0, 0, 1, 0, 1, 0, 1, 0, 1 , 1, 0, 0, 0, 1, 0, 1,],\n",
        " [1, 1, 0, 0, 0, 1, 0, 1, 0, 0, 1, 0, 1, 1, 0, 0, 0, 0, 1, 0, 1, 0, 0, 1, 0 , 1, 0, 1, 0, 0, 1, 1,],\n",
        " [0, 0, 0, 1, 0, 1, 0, 0, 1, 1, 0, 1, 0, 0, 0, 0, 0, 0, 1, 1, 1, 0, 0, 0 , 0, 0, 0, 0, 0, 0, 0,],\n",
        " [1, 1, 0, 0, 0, 0, 0, 1, 1, 0, 1, 0, 1, 0, 0, 0, 0, 0, 0, 1, 1, 1, 1, 1 , 1, 0, 0, 1, 1, 1, 1,],\n",
        " [1, 0, 0, 0, 0, 0, 0, 0, 1, 0, 0, 0, 0, 0, 1, 1, 0, 0, 0, 1, 0, 0, 0, 0, 0 , 0, 0, 0, 0, 0, 0, 0,],\n",
        " [1, 0, 1, 0, 0, 1, 0, 1, 1, 0, 0, 0, 1, 0, 0, 0, 1, 0, 1, 0, 0, 0, 1, 0, 1 , 0, 1, 1, 0, 0, 0, 0,],\n",
        " [0, 0, 1, 1, 1, 0, 0, 0, 1, 1, 1, 1, 0, 0, 1, 1, 1, 1, 0, 0, 1, 1, 1, 1 , 0, 0, 1, 0, 1, 1, 0,],\n",
        " [0, 1, 1, 0, 0, 1, 1, 0, 0, 1, 0, 1, 1, 0, 0, 0, 1, 1, 0, 0, 1, 0, 0, 0, 1 , 1, 0, 0, 0, 1, 1, 1,],\n",
        " [1, 0, 0, 0, 0, 0, 0, 0, 0, 1, 0, 0, 0, 0, 1, 0, 0, 1, 0, 1, 1, 0, 0, 0, 0 , 0, 0, 0, 0, 1, 0, 1,],\n",
        " [1, 0, 0, 0, 0, 1, 0, 1, 1, 0, 0, 0, 0, 0, 0, 1, 0, 1, 0, 0, 1, 0, 0, 0, 0 , 0, 0, 0, 0, 1, 0, 0,],\n",
        " [0, 0, 0, 0, 0, 1, 0, 1, 0, 0, 0, 0, 0, 1, 1, 0, 0, 1, 0, 1, 1, 1, 0, 0, 0 , 0, 0, 0, 0, 1, 0, 1,],\n",
        " [0, 0, 0, 1, 0, 1, 0, 1, 0, 0, 0, 1, 0, 1, 1, 1, 0, 1, 0, 0, 0, 1, 0, 0, 0 , 0, 0, 0, 0, 0, 0, 1,],\n",
        " [0, 0, 0, 0, 0, 0, 0, 1, 0, 0, 0, 0, 0, 1, 0, 0, 0, 0, 0, 1, 0, 0, 0, 0, 0 , 0, 0, 0, 0, 1, 0, 0,],\n",
        " [1, 0, 0, 0, 0, 1, 0, 1, 1, 0, 0, 0, 0, 1, 0, 1, 0, 0, 0, 1, 1, 0, 0, 0, 0 , 0, 0, 0, 0, 1, 0, 1,],\n",
        " [1,0,0,0,0,0,0,1,1,0,0,0,0,0,0,0,0,0,0,0,0,0,0,0 , 0, 0, 0, 0, 0, 0, 0,],\n",
        " [1, 1, 1, 0, 1, 0, 1, 0, 1, 0, 1, 1, 0, 1, 1, 0, 0, 1, 0, 0, 1, 1, 1, 1, 1 , 0, 1, 1, 0, 0, 1, 1,],\n",
        " [0, 0, 0, 0, 0, 1, 0, 0, 0, 0, 0, 0, 0, 0, 0, 1, 0, 1, 0, 0, 1, 1, 0, 0, 0 , 0, 0, 0, 0, 1, 0, 1,],\n",
        " [0, 0, 1, 1, 0, 1, 0, 0, 0, 1, 0, 1, 1, 0, 1, 1, 0, 1, 0, 0, 0, 1, 1, 0, 1 , 1, 0, 1, 0, 1, 1, 0,],]\n",
        "\n",
        "stable(M)"
      ],
      "execution_count": 0,
      "outputs": [
        {
          "output_type": "stream",
          "text": [
            "/usr/local/lib/python3.6/dist-packages/ipykernel_launcher.py:28: DeprecationWarning: elementwise comparison failed; this will raise an error in the future.\n"
          ],
          "name": "stderr"
        },
        {
          "output_type": "execute_result",
          "data": {
            "text/plain": [
              "[1, 2, 4, 6, 10, 12, 16, 18, 22, 23, 24, 25, 26, 27, 28, 30]"
            ]
          },
          "metadata": {
            "tags": []
          },
          "execution_count": 2
        }
      ]
    },
    {
      "cell_type": "code",
      "metadata": {
        "id": "FjVhylv2nf_6",
        "colab_type": "code",
        "colab": {}
      },
      "source": [
        ""
      ],
      "execution_count": 0,
      "outputs": []
    },
    {
      "cell_type": "code",
      "metadata": {
        "id": "pMqzx2q2DFXW",
        "colab_type": "code",
        "colab": {}
      },
      "source": [
        ""
      ],
      "execution_count": 0,
      "outputs": []
    },
    {
      "cell_type": "code",
      "metadata": {
        "id": "tNjgtsaADEMY",
        "colab_type": "code",
        "colab": {}
      },
      "source": [
        ""
      ],
      "execution_count": 0,
      "outputs": []
    },
    {
      "cell_type": "code",
      "metadata": {
        "id": "9UKQOEYKDD6E",
        "colab_type": "code",
        "colab": {}
      },
      "source": [
        ""
      ],
      "execution_count": 0,
      "outputs": []
    }
  ]
}