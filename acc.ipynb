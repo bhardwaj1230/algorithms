{
  "nbformat": 4,
  "nbformat_minor": 0,
  "metadata": {
    "colab": {
      "name": "acc.ipynb",
      "version": "0.3.2",
      "provenance": [],
      "include_colab_link": true
    },
    "language_info": {
      "codemirror_mode": {
        "name": "ipython",
        "version": 3
      },
      "file_extension": ".py",
      "mimetype": "text/x-python",
      "name": "python",
      "nbconvert_exporter": "python",
      "pygments_lexer": "ipython3",
      "version": "3.6.8"
    },
    "kernelspec": {
      "name": "python3",
      "display_name": "Python 3"
    },
    "accelerator": "TPU"
  },
  "cells": [
    {
      "cell_type": "markdown",
      "metadata": {
        "id": "view-in-github",
        "colab_type": "text"
      },
      "source": [
        "<a href=\"https://colab.research.google.com/github/bhardwaj1230/algorithms/blob/master/acc.ipynb\" target=\"_parent\"><img src=\"https://colab.research.google.com/assets/colab-badge.svg\" alt=\"Open In Colab\"/></a>"
      ]
    },
    {
      "cell_type": "code",
      "metadata": {
        "id": "MbQHXm2gteHE",
        "colab_type": "code",
        "colab": {}
      },
      "source": [
        "import numpy as np\n",
        "from tqdm import tqdm\n",
        "\n",
        "def sum_tupple(x,y):\n",
        "    #summing parent (s) and the child (each v) \n",
        "    return (x[0]+y[0],x[1]+y[1])\n",
        "       \n",
        "def acc_1(s,t,v):\n",
        "    list_s = []\n",
        "    for vi in v:\n",
        "        #output sum of each banch\n",
        "        list_s.append(sum_tupple(s,vi))\n",
        "    return list_s\n",
        "\n",
        "def acc(s,t,v):\n",
        "    list_return=[s]\n",
        "    # trying only 1000 steps \n",
        "    for i in tqdm(range(1000)):\n",
        "        \n",
        "        list_return_1=[]\n",
        "        #add the resulted sums of child nodes with s\n",
        "        for elem in list_return:\n",
        "            list_return_1+=acc_1(elem,t,v)\n",
        "        #checking if we have s == t, if not increment i\n",
        "        if t in list_return_1:\n",
        "            return i+1\n",
        "        #store only the unique childs to optimize the function\n",
        "        list_return = list(set(list_return_1))\n",
        "        \n",
        "        "
      ],
      "execution_count": 0,
      "outputs": []
    },
    {
      "cell_type": "code",
      "metadata": {
        "id": "gvYqN3SGteHM",
        "colab_type": "code",
        "outputId": "18daed64-161c-4d5a-df70-bd305a6111c4",
        "colab": {
          "base_uri": "https://localhost:8080/",
          "height": 51
        }
      },
      "source": [
        "\n",
        "#exemplaires de tests\n",
        "s = (8,3)\n",
        "t = (10,5)\n",
        "v = set([(-1,3),(4,-4)])\n",
        "acc(s,t,v)\n",
        "\n",
        "#3"
      ],
      "execution_count": 0,
      "outputs": [
        {
          "output_type": "stream",
          "text": [
            "\r  0%|          | 0/1000 [00:00<?, ?it/s]\n"
          ],
          "name": "stderr"
        },
        {
          "output_type": "execute_result",
          "data": {
            "text/plain": [
              "3"
            ]
          },
          "metadata": {
            "tags": []
          },
          "execution_count": 2
        }
      ]
    },
    {
      "cell_type": "code",
      "metadata": {
        "id": "Uviz1bz9teHu",
        "colab_type": "code",
        "outputId": "bdc37ba1-8bd0-4b2f-8960-b29e9fbab7ba",
        "colab": {
          "base_uri": "https://localhost:8080/",
          "height": 51
        }
      },
      "source": [
        "s = (-8,3)\n",
        "t = (10,5)\n",
        "v = set([(-1,3),(4,-4)])\n",
        "acc(s,t,v)\n",
        "\n",
        "#17"
      ],
      "execution_count": 0,
      "outputs": [
        {
          "output_type": "stream",
          "text": [
            "\r  0%|          | 0/1000 [00:00<?, ?it/s]\n"
          ],
          "name": "stderr"
        },
        {
          "output_type": "execute_result",
          "data": {
            "text/plain": [
              "17"
            ]
          },
          "metadata": {
            "tags": []
          },
          "execution_count": 3
        }
      ]
    },
    {
      "cell_type": "code",
      "metadata": {
        "id": "_M8b71neteH3",
        "colab_type": "code",
        "outputId": "1ed37227-9ca2-45b3-a89d-f105b5a4463d",
        "colab": {
          "base_uri": "https://localhost:8080/",
          "height": 51
        }
      },
      "source": [
        "s = (15, 12)\n",
        "t = (0, 9)\n",
        "v = set([(4, 10), (4, 7), (-2, -1), (-3, -16), (15, 11)])\n",
        "acc(s,t,v)\n",
        "\n",
        "#24"
      ],
      "execution_count": 0,
      "outputs": [
        {
          "output_type": "stream",
          "text": [
            "  2%|▏         | 20/1000 [00:00<00:05, 190.27it/s]\n"
          ],
          "name": "stderr"
        },
        {
          "output_type": "execute_result",
          "data": {
            "text/plain": [
              "24"
            ]
          },
          "metadata": {
            "tags": []
          },
          "execution_count": 4
        }
      ]
    },
    {
      "cell_type": "code",
      "metadata": {
        "scrolled": true,
        "id": "41s0QFdrteIA",
        "colab_type": "code",
        "outputId": "8de71889-1dc2-464d-d51a-9346d0f548cd",
        "colab": {
          "base_uri": "https://localhost:8080/",
          "height": 34
        }
      },
      "source": [
        "s = (0,1)\n",
        "t = (1,3)\n",
        "v = set([(2,3),(3,-2)])\n",
        "acc(s,t,v)\n",
        "\n",
        "#Not know"
      ],
      "execution_count": 0,
      "outputs": [
        {
          "output_type": "stream",
          "text": [
            "100%|██████████| 1000/1000 [00:00<00:00, 1315.73it/s]\n"
          ],
          "name": "stderr"
        }
      ]
    },
    {
      "cell_type": "code",
      "metadata": {
        "scrolled": true,
        "id": "NzmPcW5qteII",
        "colab_type": "code",
        "outputId": "1c67845d-3de3-4681-e761-213f2c6f62ae",
        "colab": {
          "base_uri": "https://localhost:8080/",
          "height": 34
        }
      },
      "source": [
        "s = (6, 2)\n",
        "t = (19, 7)\n",
        "v = set([(-11, 18), (-1, -19), (12, 8)])\n",
        "acc(s,t,v)\n",
        "\n",
        "#527"
      ],
      "execution_count": 0,
      "outputs": [
        {
          "output_type": "stream",
          "text": [
            " 53%|█████▎    | 526/1000 [01:38<04:35,  1.72it/s]"
          ],
          "name": "stderr"
        },
        {
          "output_type": "execute_result",
          "data": {
            "text/plain": [
              "527"
            ]
          },
          "metadata": {
            "tags": []
          },
          "execution_count": 6
        }
      ]
    },
    {
      "cell_type": "code",
      "metadata": {
        "scrolled": true,
        "id": "SEtzQ5IFteIR",
        "colab_type": "code",
        "outputId": "d16e288c-0125-4122-887f-b645ba8caeaf",
        "colab": {
          "base_uri": "https://localhost:8080/",
          "height": 1105
        }
      },
      "source": [
        "s= (20,7)\n",
        "t= (12,24)\n",
        "v= set([(39, -4), (0, 27), (-29, 12), (18, 23)])\n",
        "acc(s,t,v)\n",
        "\n"
      ],
      "execution_count": 0,
      "outputs": [
        {
          "output_type": "stream",
          "text": [
            "\n",
            " 27%|██▋       | 271/1000 [25:03<4:40:12, 23.06s/it]\u001b[A\n",
            " 27%|██▋       | 272/1000 [25:27<4:41:42, 23.22s/it]\u001b[A\n",
            " 27%|██▋       | 273/1000 [25:51<4:43:57, 23.44s/it]\u001b[A\n",
            " 27%|██▋       | 274/1000 [26:17<4:54:12, 24.31s/it]\u001b[A\n",
            " 28%|██▊       | 275/1000 [26:41<4:52:17, 24.19s/it]\u001b[A\n",
            " 28%|██▊       | 276/1000 [27:05<4:49:55, 24.03s/it]\u001b[A\n",
            " 28%|██▊       | 277/1000 [27:29<4:49:50, 24.05s/it]\u001b[A\n",
            " 28%|██▊       | 278/1000 [27:54<4:52:15, 24.29s/it]\u001b[A\n",
            " 28%|██▊       | 279/1000 [28:20<5:00:40, 25.02s/it]\u001b[A\n",
            " 28%|██▊       | 280/1000 [28:46<5:03:17, 25.27s/it]\u001b[A\n",
            " 28%|██▊       | 281/1000 [29:11<5:03:14, 25.31s/it]\u001b[A\n",
            " 28%|██▊       | 282/1000 [29:38<5:07:21, 25.68s/it]\u001b[A\n",
            " 28%|██▊       | 283/1000 [30:05<5:10:16, 25.96s/it]\u001b[A\n",
            " 28%|██▊       | 284/1000 [30:30<5:09:04, 25.90s/it]\u001b[A\n",
            " 28%|██▊       | 285/1000 [30:57<5:10:11, 26.03s/it]\u001b[A\n",
            " 29%|██▊       | 286/1000 [31:24<5:13:19, 26.33s/it]\u001b[A\n",
            " 29%|██▊       | 287/1000 [31:51<5:14:55, 26.50s/it]\u001b[A\n",
            " 29%|██▉       | 288/1000 [32:19<5:19:49, 26.95s/it]\u001b[A\n",
            " 29%|██▉       | 289/1000 [32:48<5:26:15, 27.53s/it]\u001b[A\n",
            " 29%|██▉       | 290/1000 [33:17<5:32:32, 28.10s/it]\u001b[A\n",
            " 29%|██▉       | 291/1000 [33:46<5:33:49, 28.25s/it]\u001b[A\n",
            " 29%|██▉       | 292/1000 [34:16<5:41:04, 28.90s/it]\u001b[A\n",
            " 29%|██▉       | 293/1000 [34:45<5:40:40, 28.91s/it]\u001b[A\n",
            " 29%|██▉       | 294/1000 [35:15<5:44:44, 29.30s/it]\u001b[A\n",
            " 30%|██▉       | 295/1000 [35:47<5:52:48, 30.03s/it]\u001b[A\n",
            " 30%|██▉       | 296/1000 [36:18<5:56:17, 30.37s/it]\u001b[A\n",
            " 30%|██▉       | 297/1000 [36:48<5:55:23, 30.33s/it]\u001b[A\n",
            " 30%|██▉       | 298/1000 [37:20<5:58:09, 30.61s/it]\u001b[A\n",
            " 30%|██▉       | 299/1000 [37:51<5:59:23, 30.76s/it]\u001b[A\n",
            " 30%|███       | 300/1000 [38:24<6:06:56, 31.45s/it]\u001b[A\n",
            " 30%|███       | 301/1000 [38:57<6:11:24, 31.88s/it]\u001b[A\n",
            " 30%|███       | 302/1000 [39:29<6:11:17, 31.92s/it]\u001b[A\n",
            " 30%|███       | 303/1000 [40:03<6:18:08, 32.55s/it]\u001b[A\n",
            " 30%|███       | 304/1000 [40:36<6:19:22, 32.71s/it]\u001b[A\n",
            " 30%|███       | 305/1000 [41:09<6:21:35, 32.94s/it]\u001b[A\n",
            " 31%|███       | 306/1000 [41:45<6:29:08, 33.64s/it]\u001b[A\n",
            " 31%|███       | 307/1000 [42:18<6:27:20, 33.54s/it]\u001b[A\n",
            " 31%|███       | 308/1000 [42:52<6:28:09, 33.66s/it]\u001b[A\n",
            " 31%|███       | 309/1000 [43:29<6:40:05, 34.74s/it]\u001b[A\n",
            " 31%|███       | 310/1000 [44:03<6:35:53, 34.43s/it]\u001b[A\n",
            " 31%|███       | 311/1000 [44:37<6:35:41, 34.46s/it]\u001b[A\n",
            " 31%|███       | 312/1000 [45:14<6:41:37, 35.03s/it]\u001b[A\n",
            " 31%|███▏      | 313/1000 [45:50<6:45:11, 35.39s/it]\u001b[A\n",
            " 31%|███▏      | 314/1000 [46:26<6:47:48, 35.67s/it]\u001b[A\n",
            " 32%|███▏      | 315/1000 [47:02<6:47:29, 35.69s/it]\u001b[A\n",
            " 32%|███▏      | 316/1000 [47:38<6:47:56, 35.78s/it]\u001b[A\n",
            " 32%|███▏      | 317/1000 [48:16<6:55:36, 36.51s/it]\u001b[A\n",
            " 32%|███▏      | 318/1000 [48:54<6:59:12, 36.88s/it]\u001b[A\n",
            " 32%|███▏      | 319/1000 [49:33<7:05:46, 37.51s/it]\u001b[A\n",
            " 32%|███▏      | 320/1000 [50:11<7:09:00, 37.85s/it]\u001b[A\n",
            " 32%|███▏      | 321/1000 [50:52<7:16:17, 38.55s/it]\u001b[A\n",
            " 32%|███▏      | 322/1000 [51:31<7:19:34, 38.90s/it]\u001b[A\n",
            " 32%|███▏      | 323/1000 [52:12<7:26:14, 39.55s/it]\u001b[A\n",
            " 32%|███▏      | 324/1000 [52:54<7:33:19, 40.24s/it]\u001b[A\n",
            " 32%|███▎      | 325/1000 [53:35<7:34:53, 40.43s/it]\u001b[A\n",
            " 33%|███▎      | 326/1000 [54:18<7:41:45, 41.11s/it]\u001b[A\n",
            " 33%|███▎      | 327/1000 [55:00<7:43:52, 41.36s/it]\u001b[A\n",
            " 33%|███▎      | 328/1000 [55:43<7:50:26, 42.00s/it]\u001b[A\n",
            " 33%|███▎      | 329/1000 [56:25<7:49:46, 42.01s/it]\u001b[A\n",
            " 33%|███▎      | 330/1000 [57:10<7:57:12, 42.74s/it]\u001b[A\n",
            " 33%|███▎      | 331/1000 [57:53<7:59:30, 43.01s/it]\u001b[A\n",
            " 33%|███▎      | 332/1000 [58:39<8:08:24, 43.87s/it]\u001b[A\n",
            " 33%|███▎      | 333/1000 [59:24<8:10:07, 44.09s/it]\u001b[A"
          ],
          "name": "stderr"
        }
      ]
    },
    {
      "cell_type": "code",
      "metadata": {
        "id": "iMcyGx5VteIa",
        "colab_type": "code",
        "colab": {}
      },
      "source": [
        "s = (25, 28)\n",
        "t = (18, 30)\n",
        "v = set([(39, -43), (42, 47), (-15, -41), (21, -25), (41, 12), (-23, 7)])\n",
        "acc(s,t,v)\n",
        "\n",
        "#52"
      ],
      "execution_count": 0,
      "outputs": []
    },
    {
      "cell_type": "code",
      "metadata": {
        "id": "jAtqlCBmteIj",
        "colab_type": "code",
        "colab": {}
      },
      "source": [
        ""
      ],
      "execution_count": 0,
      "outputs": []
    },
    {
      "cell_type": "code",
      "metadata": {
        "id": "hoab2iprteIp",
        "colab_type": "code",
        "colab": {}
      },
      "source": [
        ""
      ],
      "execution_count": 0,
      "outputs": []
    }
  ]
}