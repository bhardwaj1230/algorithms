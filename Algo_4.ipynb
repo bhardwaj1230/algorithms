{
  "nbformat": 4,
  "nbformat_minor": 0,
  "metadata": {
    "colab": {
      "name": "Algo 4",
      "version": "0.3.2",
      "provenance": [],
      "include_colab_link": true
    },
    "kernelspec": {
      "name": "python3",
      "display_name": "Python 3"
    }
  },
  "cells": [
    {
      "cell_type": "markdown",
      "metadata": {
        "id": "view-in-github",
        "colab_type": "text"
      },
      "source": [
        "<a href=\"https://colab.research.google.com/github/bhardwaj1230/algorithms/blob/master/Algo_4.ipynb\" target=\"_parent\"><img src=\"https://colab.research.google.com/assets/colab-badge.svg\" alt=\"Open In Colab\"/></a>"
      ]
    },
    {
      "cell_type": "code",
      "metadata": {
        "id": "xq-lA_5JLM10",
        "colab_type": "code",
        "colab": {}
      },
      "source": [
        "import numpy as np\n",
        "from itertools import permutations"
      ],
      "execution_count": 0,
      "outputs": []
    },
    {
      "cell_type": "code",
      "metadata": {
        "id": "-O8obZkZLW8G",
        "colab_type": "code",
        "colab": {}
      },
      "source": [
        "A = np.array([[0,1,1,1],[1,0,0,1],[1,0,0,0],[1,1,0,0]])\n",
        "\n",
        "B= np.array([[0,1,1,0],[1,0,1,0],[1,1,0,1],[0,0,1,0]])"
      ],
      "execution_count": 0,
      "outputs": []
    },
    {
      "cell_type": "code",
      "metadata": {
        "id": "9kZ3Ya1kLr5S",
        "colab_type": "code",
        "colab": {}
      },
      "source": [
        "def is_equivalent(A, B):\n",
        "    assert A.shape[0] == A.shape[1]\n",
        "    assert B.shape[0] == B.shape[1]\n",
        "    if A.shape != B.shape:\n",
        "        return False\n",
        "    n = A.shape[0]\n",
        "    for perm in permutations(range(n), n):\n",
        "        perm = np.array(perm)\n",
        "        C = A[perm[:, None], perm]\n",
        "        if np.all(C == B):\n",
        "            return True\n",
        "    return False"
      ],
      "execution_count": 0,
      "outputs": []
    },
    {
      "cell_type": "code",
      "metadata": {
        "id": "nAUBQ2mCL7ph",
        "colab_type": "code",
        "colab": {
          "base_uri": "https://localhost:8080/",
          "height": 34
        },
        "outputId": "01ee02e4-c49e-47a8-a44d-0889aac67875"
      },
      "source": [
        "is_equivalent(A, B)"
      ],
      "execution_count": 37,
      "outputs": [
        {
          "output_type": "execute_result",
          "data": {
            "text/plain": [
              "True"
            ]
          },
          "metadata": {
            "tags": []
          },
          "execution_count": 37
        }
      ]
    },
    {
      "cell_type": "code",
      "metadata": {
        "id": "xCwOE6rsNv_d",
        "colab_type": "code",
        "colab": {
          "base_uri": "https://localhost:8080/",
          "height": 85
        },
        "outputId": "086898fa-41d9-4f58-8974-5bb23e1fec60"
      },
      "source": [
        "perm = np.random.permutation(4)\n",
        "perm[:, None]"
      ],
      "execution_count": 42,
      "outputs": [
        {
          "output_type": "execute_result",
          "data": {
            "text/plain": [
              "array([[1],\n",
              "       [3],\n",
              "       [2],\n",
              "       [0]])"
            ]
          },
          "metadata": {
            "tags": []
          },
          "execution_count": 42
        }
      ]
    },
    {
      "cell_type": "code",
      "metadata": {
        "id": "p2xhCNRURoY4",
        "colab_type": "code",
        "colab": {
          "base_uri": "https://localhost:8080/",
          "height": 34
        },
        "outputId": "f30ebef6-bbe6-41d0-db0c-9f55836ef98e"
      },
      "source": [
        "n = 4\n",
        "perm = list(permutations(range(n), n))[0]\n",
        "np.array(perm)"
      ],
      "execution_count": 32,
      "outputs": [
        {
          "output_type": "execute_result",
          "data": {
            "text/plain": [
              "array([0, 1, 2, 3])"
            ]
          },
          "metadata": {
            "tags": []
          },
          "execution_count": 32
        }
      ]
    },
    {
      "cell_type": "code",
      "metadata": {
        "id": "BHUcJc5eR72z",
        "colab_type": "code",
        "colab": {}
      },
      "source": [
        ""
      ],
      "execution_count": 0,
      "outputs": []
    }
  ]
}