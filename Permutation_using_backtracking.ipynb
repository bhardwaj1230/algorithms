{
  "nbformat": 4,
  "nbformat_minor": 0,
  "metadata": {
    "colab": {
      "name": "Permutation_using_backtracking",
      "version": "0.3.2",
      "provenance": [],
      "collapsed_sections": [],
      "include_colab_link": true
    },
    "kernelspec": {
      "name": "python3",
      "display_name": "Python 3"
    }
  },
  "cells": [
    {
      "cell_type": "markdown",
      "metadata": {
        "id": "view-in-github",
        "colab_type": "text"
      },
      "source": [
        "<a href=\"https://colab.research.google.com/github/bhardwaj1230/algorithms/blob/master/Permutation_using_backtracking.ipynb\" target=\"_parent\"><img src=\"https://colab.research.google.com/assets/colab-badge.svg\" alt=\"Open In Colab\"/></a>"
      ]
    },
    {
      "cell_type": "markdown",
      "metadata": {
        "id": "9S6Ht3Hgi7md",
        "colab_type": "text"
      },
      "source": [
        "#Using permutaion function :"
      ]
    },
    {
      "cell_type": "code",
      "metadata": {
        "id": "-O8obZkZLW8G",
        "colab_type": "code",
        "colab": {}
      },
      "source": [
        "import numpy as np\n",
        "from itertools import permutations\n",
        "\n",
        "A = np.array([[0,1,1,1],[1,0,0,1],[1,0,0,0],[1,1,0,0]])\n",
        "\n",
        "B= np.array([[0,1,1,0],[1,0,1,0],[1,1,0,1],[0,0,1,0]])"
      ],
      "execution_count": 0,
      "outputs": []
    },
    {
      "cell_type": "code",
      "metadata": {
        "id": "9kZ3Ya1kLr5S",
        "colab_type": "code",
        "colab": {
          "base_uri": "https://localhost:8080/",
          "height": 34
        },
        "outputId": "f34e5c8e-78e7-4e05-e9f4-75821a9bb05e"
      },
      "source": [
        "def is_equivalent(A, B):\n",
        "    assert A.shape[0] == A.shape[1]\n",
        "    assert B.shape[0] == B.shape[1]\n",
        "    if A.shape != B.shape:\n",
        "        return False\n",
        "    n = A.shape[0]\n",
        "    for perm in permutations(range(n), n):\n",
        "        perm = np.array(perm)\n",
        "        C = A[perm[:, None], perm]\n",
        "        if np.all(C == B):\n",
        "            return True\n",
        "    return False\n",
        "\n",
        "is_equivalent(A, B)"
      ],
      "execution_count": 57,
      "outputs": [
        {
          "output_type": "execute_result",
          "data": {
            "text/plain": [
              "True"
            ]
          },
          "metadata": {
            "tags": []
          },
          "execution_count": 57
        }
      ]
    },
    {
      "cell_type": "markdown",
      "metadata": {
        "id": "gOnPi5PcjDBc",
        "colab_type": "text"
      },
      "source": [
        "# Using Backtracking  with repetition :"
      ]
    },
    {
      "cell_type": "code",
      "metadata": {
        "id": "UoYeAvWChoRp",
        "colab_type": "code",
        "outputId": "9bc77a9b-2ad3-4c68-95dc-eca750b8fb03",
        "colab": {
          "base_uri": "https://localhost:8080/",
          "height": 561
        }
      },
      "source": [
        "import numpy as np\n",
        "import sys\n",
        "\n",
        "A = np.array([[0,1,1,1],[1,0,0,1],[1,0,0,0],[1,1,0,0]])\n",
        "B= np.array([[0,1,1,0],[1,0,1,0],[1,1,0,1],[0,0,1,0]])\n",
        "\n",
        "def permute(a, l, r): \n",
        "    if l==r:\n",
        "        perm = np.array(a)\n",
        "        C = A[perm[:, None], perm]\n",
        "        if np.all(C == B):\n",
        "            \n",
        "            print('Current Permutation :',perm, '\\nMatrix of current Permutation :\\n' ,C)\n",
        "            print('\\nMatching with :\\n', B)\n",
        "            print('\\n Its a match !!!\\n\\n')\n",
        "            #sys.exit()\n",
        "        \n",
        "    else: \n",
        "        for i in range(l,r+1): \n",
        "            a[l], a[i] = a[i], a[l] \n",
        "            permute(a, l+1, r) \n",
        "            a[l], a[i] = a[i], a[l] # backtrack \n",
        "            \n",
        "n = A.shape[0]            \n",
        "p = list(range(n))\n",
        "permute(p, 0, n-1) "
      ],
      "execution_count": 45,
      "outputs": [
        {
          "output_type": "stream",
          "text": [
            "Current Permutation : [1 3 0 2] \n",
            "Matrix of current Permutation :\n",
            " [[0 1 1 0]\n",
            " [1 0 1 0]\n",
            " [1 1 0 1]\n",
            " [0 0 1 0]]\n",
            "\n",
            "Matching with :\n",
            " [[0 1 1 0]\n",
            " [1 0 1 0]\n",
            " [1 1 0 1]\n",
            " [0 0 1 0]]\n",
            "\n",
            " Its a match !!!\n",
            "\n",
            "\n",
            "Current Permutation : [3 1 0 2] \n",
            "Matrix of current Permutation :\n",
            " [[0 1 1 0]\n",
            " [1 0 1 0]\n",
            " [1 1 0 1]\n",
            " [0 0 1 0]]\n",
            "\n",
            "Matching with :\n",
            " [[0 1 1 0]\n",
            " [1 0 1 0]\n",
            " [1 1 0 1]\n",
            " [0 0 1 0]]\n",
            "\n",
            " Its a match !!!\n",
            "\n",
            "\n"
          ],
          "name": "stdout"
        }
      ]
    },
    {
      "cell_type": "markdown",
      "metadata": {
        "id": "zYKACMhGjK7e",
        "colab_type": "text"
      },
      "source": [
        "#Using Backtracking without repetition:"
      ]
    },
    {
      "cell_type": "code",
      "metadata": {
        "id": "uTsI3Dmp3uSK",
        "colab_type": "code",
        "colab": {}
      },
      "source": [
        "def permute_backtracking(A, B, p, n, k, depth, visited, current_visit, all_permutation):\n",
        "    \n",
        "    assert A.shape[0] == A.shape[1]\n",
        "    assert B.shape[0] == B.shape[1]\n",
        "    if A.shape != B.shape:\n",
        "        return False\n",
        "    \n",
        "    if depth == k: #end condition\n",
        "        all_permutation.append(current_visit[::]) # use deepcopy because current_visit is tracking all partial solution, it eventually become []\n",
        "        \n",
        "        perm = np.array(all_permutation[-1])\n",
        "        C = A[perm[:, None], perm]\n",
        "        if np.all(C == B):\n",
        "            print('\\n\\n Found a Match !!!\\n\\n')\n",
        "            return\n",
        "\n",
        "    for i in range(n):\n",
        "        if not visited[i]:\n",
        "      # generate the next solution from current_visit\n",
        "            current_visit.append(p[i])\n",
        "            visited[i] = True\n",
        "            print('Step --> ',current_visit)\n",
        "            # move to the next solution\n",
        "            permute_backtracking(A, B, p, n, k, depth+1, visited, current_visit, all_permutation)\n",
        "\n",
        "            #backtrack to previous partial state\n",
        "            current_visit.pop()\n",
        "            print('Backtracking : ', current_visit)\n",
        "            visited[i] = False\n",
        "    return"
      ],
      "execution_count": 0,
      "outputs": []
    },
    {
      "cell_type": "code",
      "metadata": {
        "id": "0CKqQCvqc0Zi",
        "colab_type": "code",
        "outputId": "a28cda89-1eda-453f-9e6f-b930b156621d",
        "colab": {
          "base_uri": "https://localhost:8080/",
          "height": 1000
        }
      },
      "source": [
        "A = np.array([[0,1,1,1],[1,0,0,1],[1,0,0,0],[1,1,0,0]])\n",
        "B= np.array([[0,1,1,0],[1,0,1,0],[1,1,0,1],[0,0,1,0]])\t\n",
        "\t\t   \n",
        "\n",
        "n = A.shape[0]\n",
        "p = list(range(n))\n",
        "visited = [False] * n\n",
        "permute_backtracking(A, B, p, n, n, 0, visited, [], [])\n"
      ],
      "execution_count": 55,
      "outputs": [
        {
          "output_type": "stream",
          "text": [
            "Step -->  [0]\n",
            "Step -->  [0, 1]\n",
            "Step -->  [0, 1, 2]\n",
            "Step -->  [0, 1, 2, 3]\n",
            "Backtracking :  [0, 1, 2]\n",
            "Backtracking :  [0, 1]\n",
            "Step -->  [0, 1, 3]\n",
            "Step -->  [0, 1, 3, 2]\n",
            "Backtracking :  [0, 1, 3]\n",
            "Backtracking :  [0, 1]\n",
            "Backtracking :  [0]\n",
            "Step -->  [0, 2]\n",
            "Step -->  [0, 2, 1]\n",
            "Step -->  [0, 2, 1, 3]\n",
            "Backtracking :  [0, 2, 1]\n",
            "Backtracking :  [0, 2]\n",
            "Step -->  [0, 2, 3]\n",
            "Step -->  [0, 2, 3, 1]\n",
            "Backtracking :  [0, 2, 3]\n",
            "Backtracking :  [0, 2]\n",
            "Backtracking :  [0]\n",
            "Step -->  [0, 3]\n",
            "Step -->  [0, 3, 1]\n",
            "Step -->  [0, 3, 1, 2]\n",
            "Backtracking :  [0, 3, 1]\n",
            "Backtracking :  [0, 3]\n",
            "Step -->  [0, 3, 2]\n",
            "Step -->  [0, 3, 2, 1]\n",
            "Backtracking :  [0, 3, 2]\n",
            "Backtracking :  [0, 3]\n",
            "Backtracking :  [0]\n",
            "Backtracking :  []\n",
            "Step -->  [1]\n",
            "Step -->  [1, 0]\n",
            "Step -->  [1, 0, 2]\n",
            "Step -->  [1, 0, 2, 3]\n",
            "Backtracking :  [1, 0, 2]\n",
            "Backtracking :  [1, 0]\n",
            "Step -->  [1, 0, 3]\n",
            "Step -->  [1, 0, 3, 2]\n",
            "Backtracking :  [1, 0, 3]\n",
            "Backtracking :  [1, 0]\n",
            "Backtracking :  [1]\n",
            "Step -->  [1, 2]\n",
            "Step -->  [1, 2, 0]\n",
            "Step -->  [1, 2, 0, 3]\n",
            "Backtracking :  [1, 2, 0]\n",
            "Backtracking :  [1, 2]\n",
            "Step -->  [1, 2, 3]\n",
            "Step -->  [1, 2, 3, 0]\n",
            "Backtracking :  [1, 2, 3]\n",
            "Backtracking :  [1, 2]\n",
            "Backtracking :  [1]\n",
            "Step -->  [1, 3]\n",
            "Step -->  [1, 3, 0]\n",
            "Step -->  [1, 3, 0, 2]\n",
            "\n",
            "\n",
            " Found a Match !!!\n",
            "\n",
            "\n",
            "Backtracking :  [1, 3, 0]\n",
            "Backtracking :  [1, 3]\n",
            "Step -->  [1, 3, 2]\n",
            "Step -->  [1, 3, 2, 0]\n",
            "Backtracking :  [1, 3, 2]\n",
            "Backtracking :  [1, 3]\n",
            "Backtracking :  [1]\n",
            "Backtracking :  []\n",
            "Step -->  [2]\n",
            "Step -->  [2, 0]\n",
            "Step -->  [2, 0, 1]\n",
            "Step -->  [2, 0, 1, 3]\n",
            "Backtracking :  [2, 0, 1]\n",
            "Backtracking :  [2, 0]\n",
            "Step -->  [2, 0, 3]\n",
            "Step -->  [2, 0, 3, 1]\n",
            "Backtracking :  [2, 0, 3]\n",
            "Backtracking :  [2, 0]\n",
            "Backtracking :  [2]\n",
            "Step -->  [2, 1]\n",
            "Step -->  [2, 1, 0]\n",
            "Step -->  [2, 1, 0, 3]\n",
            "Backtracking :  [2, 1, 0]\n",
            "Backtracking :  [2, 1]\n",
            "Step -->  [2, 1, 3]\n",
            "Step -->  [2, 1, 3, 0]\n",
            "Backtracking :  [2, 1, 3]\n",
            "Backtracking :  [2, 1]\n",
            "Backtracking :  [2]\n",
            "Step -->  [2, 3]\n",
            "Step -->  [2, 3, 0]\n",
            "Step -->  [2, 3, 0, 1]\n",
            "Backtracking :  [2, 3, 0]\n",
            "Backtracking :  [2, 3]\n",
            "Step -->  [2, 3, 1]\n",
            "Step -->  [2, 3, 1, 0]\n",
            "Backtracking :  [2, 3, 1]\n",
            "Backtracking :  [2, 3]\n",
            "Backtracking :  [2]\n",
            "Backtracking :  []\n",
            "Step -->  [3]\n",
            "Step -->  [3, 0]\n",
            "Step -->  [3, 0, 1]\n",
            "Step -->  [3, 0, 1, 2]\n",
            "Backtracking :  [3, 0, 1]\n",
            "Backtracking :  [3, 0]\n",
            "Step -->  [3, 0, 2]\n",
            "Step -->  [3, 0, 2, 1]\n",
            "Backtracking :  [3, 0, 2]\n",
            "Backtracking :  [3, 0]\n",
            "Backtracking :  [3]\n",
            "Step -->  [3, 1]\n",
            "Step -->  [3, 1, 0]\n",
            "Step -->  [3, 1, 0, 2]\n",
            "\n",
            "\n",
            " Found a Match !!!\n",
            "\n",
            "\n",
            "Backtracking :  [3, 1, 0]\n",
            "Backtracking :  [3, 1]\n",
            "Step -->  [3, 1, 2]\n",
            "Step -->  [3, 1, 2, 0]\n",
            "Backtracking :  [3, 1, 2]\n",
            "Backtracking :  [3, 1]\n",
            "Backtracking :  [3]\n",
            "Step -->  [3, 2]\n",
            "Step -->  [3, 2, 0]\n",
            "Step -->  [3, 2, 0, 1]\n",
            "Backtracking :  [3, 2, 0]\n",
            "Backtracking :  [3, 2]\n",
            "Step -->  [3, 2, 1]\n",
            "Step -->  [3, 2, 1, 0]\n",
            "Backtracking :  [3, 2, 1]\n",
            "Backtracking :  [3, 2]\n",
            "Backtracking :  [3]\n",
            "Backtracking :  []\n"
          ],
          "name": "stdout"
        }
      ]
    }
  ]
}