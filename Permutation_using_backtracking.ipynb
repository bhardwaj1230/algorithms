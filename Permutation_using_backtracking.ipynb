{
  "nbformat": 4,
  "nbformat_minor": 0,
  "metadata": {
    "colab": {
      "name": "Algo 4",
      "version": "0.3.2",
      "provenance": [],
      "collapsed_sections": [],
      "include_colab_link": true
    },
    "kernelspec": {
      "name": "python3",
      "display_name": "Python 3"
    }
  },
  "cells": [
    {
      "cell_type": "markdown",
      "metadata": {
        "id": "view-in-github",
        "colab_type": "text"
      },
      "source": [
        "<a href=\"https://colab.research.google.com/github/bhardwaj1230/algorithms/blob/master/Permutation_using_backtracking.ipynb\" target=\"_parent\"><img src=\"https://colab.research.google.com/assets/colab-badge.svg\" alt=\"Open In Colab\"/></a>"
      ]
    },
    {
      "cell_type": "markdown",
      "metadata": {
        "id": "9S6Ht3Hgi7md",
        "colab_type": "text"
      },
      "source": [
        "#Using permutaion function :"
      ]
    },
    {
      "cell_type": "code",
      "metadata": {
        "id": "-O8obZkZLW8G",
        "colab_type": "code",
        "colab": {}
      },
      "source": [
        "import numpy as np\n",
        "from itertools import permutations\n",
        "\n",
        "A = np.array([[0,1,1,1],[1,0,0,1],[1,0,0,0],[1,1,0,0]])\n",
        "\n",
        "B= np.array([[0,1,1,0],[1,0,1,0],[1,1,0,1],[0,0,1,0]])"
      ],
      "execution_count": 0,
      "outputs": []
    },
    {
      "cell_type": "code",
      "metadata": {
        "id": "9kZ3Ya1kLr5S",
        "colab_type": "code",
        "colab": {}
      },
      "source": [
        "def is_equivalent(A, B):\n",
        "    assert A.shape[0] == A.shape[1]\n",
        "    assert B.shape[0] == B.shape[1]\n",
        "    if A.shape != B.shape:\n",
        "        return False\n",
        "    n = A.shape[0]\n",
        "    for perm in permutations(range(n), n):\n",
        "        perm = np.array(perm)\n",
        "        C = A[perm[:, None], perm]\n",
        "        if np.all(C == B):\n",
        "            return True\n",
        "    return False\n",
        "\n",
        "is_equivalent(A, B)"
      ],
      "execution_count": 0,
      "outputs": []
    },
    {
      "cell_type": "markdown",
      "metadata": {
        "id": "gOnPi5PcjDBc",
        "colab_type": "text"
      },
      "source": [
        "# Using Backtracking  with repetition :"
      ]
    },
    {
      "cell_type": "code",
      "metadata": {
        "id": "UoYeAvWChoRp",
        "colab_type": "code",
        "outputId": "39ff0497-0d1d-4aa5-e01f-15dcbba19a4d",
        "colab": {
          "base_uri": "https://localhost:8080/",
          "height": 51
        }
      },
      "source": [
        "import numpy as np\n",
        "import sys\n",
        "\n",
        "A = np.array([[0,1,1,1],[1,0,0,1],[1,0,0,0],[1,1,0,0]])\n",
        "B= np.array([[0,1,1,0],[1,0,1,0],[1,1,0,1],[0,0,1,0]])\n",
        "\n",
        "\n",
        "def permute(a, l, r): \n",
        "    if l==r:\n",
        "        perm = np.array(a)\n",
        "        C = A[perm[:, None], perm]\n",
        "        if np.all(C == B):\n",
        "            print(True)\n",
        "        \n",
        "    else: \n",
        "        for i in range(l,r+1): \n",
        "            a[l], a[i] = a[i], a[l] \n",
        "            permute(a, l+1, r) \n",
        "            a[l], a[i] = a[i], a[l] # backtrack \n",
        "            \n",
        "            \n",
        "string = [0,1,2,3]\n",
        "n = len(string) \n",
        "a = list(string) \n",
        "permute(a, 0, n-1) "
      ],
      "execution_count": 6,
      "outputs": [
        {
          "output_type": "stream",
          "text": [
            "True\n",
            "True\n"
          ],
          "name": "stdout"
        }
      ]
    },
    {
      "cell_type": "markdown",
      "metadata": {
        "id": "zYKACMhGjK7e",
        "colab_type": "text"
      },
      "source": [
        "#Using Backtracking without repetition:"
      ]
    },
    {
      "cell_type": "code",
      "metadata": {
        "id": "uTsI3Dmp3uSK",
        "colab_type": "code",
        "colab": {}
      },
      "source": [
        "def permute_backtracking(A, B, p, n, k, depth, visited, current_visit, ans):\n",
        "    \n",
        "    assert A.shape[0] == A.shape[1]\n",
        "    assert B.shape[0] == B.shape[1]\n",
        "    if A.shape != B.shape:\n",
        "        return False\n",
        "    \n",
        "    if depth == k: #end condition\n",
        "        ans.append(current_visit[::]) # use deepcopy because current_visit is tracking all partial solution, it eventually become []\n",
        "        \n",
        "        perm = np.array(ans[-1])\n",
        "        C = A[perm[:, None], perm]\n",
        "        if np.all(C == B):\n",
        "            print('\\n\\n Found a Match !!!\\n\\n')\n",
        "\n",
        "    for i in range(n):\n",
        "        if not visited[i]:\n",
        "      # generate the next solution from current_visit\n",
        "            current_visit.append(p[i])\n",
        "            visited[i] = True\n",
        "            print(current_visit)\n",
        "            # move to the next solution\n",
        "            permute_backtracking(A, B, p, n, k, depth+1, visited, current_visit, ans)\n",
        "\n",
        "            #backtrack to previous partial state\n",
        "            current_visit.pop()\n",
        "            print('backtrack: ', current_visit)\n",
        "            visited[i] = False\n",
        "    return"
      ],
      "execution_count": 0,
      "outputs": []
    },
    {
      "cell_type": "code",
      "metadata": {
        "id": "0CKqQCvqc0Zi",
        "colab_type": "code",
        "colab": {
          "base_uri": "https://localhost:8080/",
          "height": 1000
        },
        "outputId": "ba4ac194-5dc5-44c2-9c71-362371f4c13a"
      },
      "source": [
        "A = np.array([[0,1,1,1],[1,0,0,1],[1,0,0,0],[1,1,0,0]])\n",
        "B= np.array([[0,1,1,0],[1,0,1,0],[1,1,0,1],[0,0,1,0]])\n",
        "\n",
        "n = A.shape[0]\n",
        "p = list(range(n))\n",
        "visited = [False] * n\n",
        "permute_backtracking(A, B, p, n, n, 0, visited, [], [])\n"
      ],
      "execution_count": 21,
      "outputs": [
        {
          "output_type": "stream",
          "text": [
            "[0]\n",
            "[0, 1]\n",
            "[0, 1, 2]\n",
            "[0, 1, 2, 3]\n",
            "backtrack:  [0, 1, 2]\n",
            "backtrack:  [0, 1]\n",
            "[0, 1, 3]\n",
            "[0, 1, 3, 2]\n",
            "backtrack:  [0, 1, 3]\n",
            "backtrack:  [0, 1]\n",
            "backtrack:  [0]\n",
            "[0, 2]\n",
            "[0, 2, 1]\n",
            "[0, 2, 1, 3]\n",
            "backtrack:  [0, 2, 1]\n",
            "backtrack:  [0, 2]\n",
            "[0, 2, 3]\n",
            "[0, 2, 3, 1]\n",
            "backtrack:  [0, 2, 3]\n",
            "backtrack:  [0, 2]\n",
            "backtrack:  [0]\n",
            "[0, 3]\n",
            "[0, 3, 1]\n",
            "[0, 3, 1, 2]\n",
            "backtrack:  [0, 3, 1]\n",
            "backtrack:  [0, 3]\n",
            "[0, 3, 2]\n",
            "[0, 3, 2, 1]\n",
            "backtrack:  [0, 3, 2]\n",
            "backtrack:  [0, 3]\n",
            "backtrack:  [0]\n",
            "backtrack:  []\n",
            "[1]\n",
            "[1, 0]\n",
            "[1, 0, 2]\n",
            "[1, 0, 2, 3]\n",
            "backtrack:  [1, 0, 2]\n",
            "backtrack:  [1, 0]\n",
            "[1, 0, 3]\n",
            "[1, 0, 3, 2]\n",
            "backtrack:  [1, 0, 3]\n",
            "backtrack:  [1, 0]\n",
            "backtrack:  [1]\n",
            "[1, 2]\n",
            "[1, 2, 0]\n",
            "[1, 2, 0, 3]\n",
            "backtrack:  [1, 2, 0]\n",
            "backtrack:  [1, 2]\n",
            "[1, 2, 3]\n",
            "[1, 2, 3, 0]\n",
            "backtrack:  [1, 2, 3]\n",
            "backtrack:  [1, 2]\n",
            "backtrack:  [1]\n",
            "[1, 3]\n",
            "[1, 3, 0]\n",
            "[1, 3, 0, 2]\n",
            "\n",
            "\n",
            " Found a Match !!!\n",
            "\n",
            "\n",
            "backtrack:  [1, 3, 0]\n",
            "backtrack:  [1, 3]\n",
            "[1, 3, 2]\n",
            "[1, 3, 2, 0]\n",
            "backtrack:  [1, 3, 2]\n",
            "backtrack:  [1, 3]\n",
            "backtrack:  [1]\n",
            "backtrack:  []\n",
            "[2]\n",
            "[2, 0]\n",
            "[2, 0, 1]\n",
            "[2, 0, 1, 3]\n",
            "backtrack:  [2, 0, 1]\n",
            "backtrack:  [2, 0]\n",
            "[2, 0, 3]\n",
            "[2, 0, 3, 1]\n",
            "backtrack:  [2, 0, 3]\n",
            "backtrack:  [2, 0]\n",
            "backtrack:  [2]\n",
            "[2, 1]\n",
            "[2, 1, 0]\n",
            "[2, 1, 0, 3]\n",
            "backtrack:  [2, 1, 0]\n",
            "backtrack:  [2, 1]\n",
            "[2, 1, 3]\n",
            "[2, 1, 3, 0]\n",
            "backtrack:  [2, 1, 3]\n",
            "backtrack:  [2, 1]\n",
            "backtrack:  [2]\n",
            "[2, 3]\n",
            "[2, 3, 0]\n",
            "[2, 3, 0, 1]\n",
            "backtrack:  [2, 3, 0]\n",
            "backtrack:  [2, 3]\n",
            "[2, 3, 1]\n",
            "[2, 3, 1, 0]\n",
            "backtrack:  [2, 3, 1]\n",
            "backtrack:  [2, 3]\n",
            "backtrack:  [2]\n",
            "backtrack:  []\n",
            "[3]\n",
            "[3, 0]\n",
            "[3, 0, 1]\n",
            "[3, 0, 1, 2]\n",
            "backtrack:  [3, 0, 1]\n",
            "backtrack:  [3, 0]\n",
            "[3, 0, 2]\n",
            "[3, 0, 2, 1]\n",
            "backtrack:  [3, 0, 2]\n",
            "backtrack:  [3, 0]\n",
            "backtrack:  [3]\n",
            "[3, 1]\n",
            "[3, 1, 0]\n",
            "[3, 1, 0, 2]\n",
            "\n",
            "\n",
            " Found a Match !!!\n",
            "\n",
            "\n",
            "backtrack:  [3, 1, 0]\n",
            "backtrack:  [3, 1]\n",
            "[3, 1, 2]\n",
            "[3, 1, 2, 0]\n",
            "backtrack:  [3, 1, 2]\n",
            "backtrack:  [3, 1]\n",
            "backtrack:  [3]\n",
            "[3, 2]\n",
            "[3, 2, 0]\n",
            "[3, 2, 0, 1]\n",
            "backtrack:  [3, 2, 0]\n",
            "backtrack:  [3, 2]\n",
            "[3, 2, 1]\n",
            "[3, 2, 1, 0]\n",
            "backtrack:  [3, 2, 1]\n",
            "backtrack:  [3, 2]\n",
            "backtrack:  [3]\n",
            "backtrack:  []\n"
          ],
          "name": "stdout"
        }
      ]
    }
  ]
}